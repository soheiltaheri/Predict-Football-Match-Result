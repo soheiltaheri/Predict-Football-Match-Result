{
 "nbformat": 4,
 "nbformat_minor": 0,
 "metadata": {
  "colab": {
   "provenance": []
  },
  "kernelspec": {
   "name": "python3",
   "display_name": "Python 3"
  },
  "language_info": {
   "name": "python"
  }
 },
 "cells": [
  {
   "cell_type": "code",
   "execution_count": 50,
   "metadata": {
    "collapsed": true,
    "pycharm": {
     "name": "#%%\n"
    },
    "id": "FjTKDvp_Dos_",
    "executionInfo": {
     "status": "ok",
     "timestamp": 1687270725374,
     "user_tz": -210,
     "elapsed": 596,
     "user": {
      "displayName": "soheil taheri",
      "userId": "00776671109671036609"
     }
    }
   },
   "outputs": [],
   "source": [
    "import pandas as pd"
   ]
  },
  {
   "cell_type": "code",
   "execution_count": 51,
   "outputs": [],
   "source": [
    "matches = pd.read_csv('Data23-22-21-EPL.csv',index_col=0)\n",
    "# matches = pd.read_csv('Data23-22-21-LaLiga.csv', index_col=0)\n",
    "# matches = pd.read_csv('Data23-22-21-France.csv', index_col=0)\n",
    "# matches = pd.read_csv('Data23-22-21-Bundesliga.csv', index_col=0)\n",
    "# matches = pd.read_csv('Data23-22-21-SerieA.csv', index_col=0)"
   ],
   "metadata": {
    "pycharm": {
     "name": "#%%\n"
    },
    "id": "SL9jvMFQDotE",
    "executionInfo": {
     "status": "ok",
     "timestamp": 1687270726155,
     "user_tz": -210,
     "elapsed": 31,
     "user": {
      "displayName": "soheil taheri",
      "userId": "00776671109671036609"
     }
    }
   }
  },
  {
   "cell_type": "code",
   "execution_count": 52,
   "outputs": [
    {
     "data": {
      "text/plain": "         Date   Time            Comp         Round  Day Venue Result  GF  GA   \n1   9/12/2020  17:30  Premier League   Matchweek 1  Sat  Home      W   4   3  \\\n0   9/12/2020  20:00  Premier League   Matchweek 1  Sat  Home      L   0   2   \n1   9/12/2020  12:30  Premier League   Matchweek 1  Sat  Away      W   3   0   \n0   9/12/2020  17:30  Premier League   Matchweek 1  Sat  Away      L   3   4   \n0   9/12/2020  20:00  Premier League   Matchweek 1  Sat  Away      W   2   0   \n..        ...    ...             ...           ...  ...   ...    ...  ..  ..   \n44  5/28/2023  16:30  Premier League  Matchweek 38  Sun  Away      D   1   1   \n40  5/28/2023  16:30  Premier League  Matchweek 38  Sun  Home      W   1   0   \n44  5/28/2023  16:30  Premier League  Matchweek 38  Sun  Home      W   2   1   \n43  5/28/2023  16:30  Premier League  Matchweek 38  Sun  Home      L   1   4   \n46  5/28/2023  16:30  Premier League  Matchweek 38  Sun  Home      D   4   4   \n\n          Opponent  ...  Match Report  Notes  Sh  SoT  Dist FK PK PKatt   \n1     Leeds United  ...  Match Report    NaN  20    4  18.4  0  2     2  \\\n0    Newcastle Utd  ...  Match Report    NaN  15    3  16.5  0  0     0   \n1           Fulham  ...  Match Report    NaN  13    5  14.1  2  0     0   \n0        Liverpool  ...  Match Report    NaN   6    3  19.9  1  0     0   \n0         West Ham  ...  Match Report    NaN  15    2  17.6  1  0     0   \n..             ...  ...           ...    ...  ..  ...   ... .. ..   ...   \n44  Crystal Palace  ...  Match Report    NaN   7    4  17.0  0  0     0   \n40     Bournemouth  ...  Match Report    NaN  13    6  17.2  0  0     0   \n44        West Ham  ...  Match Report    NaN  13    4  17.5  0  0     0   \n43       Tottenham  ...  Match Report    NaN  19    2  15.8  0  0     0   \n46       Liverpool  ...  Match Report    NaN  15   10  17.5  1  0     0   \n\n    Season              Team  \n1     2021         Liverpool  \n0     2021     WestHamUnited  \n1     2021           Arsenal  \n0     2021       LeedsUnited  \n0     2021   NewcastleUnited  \n..     ...               ...  \n44    2023  NottinghamForest  \n40    2023           Everton  \n44    2023     LeicesterCity  \n43    2023       LeedsUnited  \n46    2023       Southampton  \n\n[2280 rows x 27 columns]",
      "text/html": "<div>\n<style scoped>\n    .dataframe tbody tr th:only-of-type {\n        vertical-align: middle;\n    }\n\n    .dataframe tbody tr th {\n        vertical-align: top;\n    }\n\n    .dataframe thead th {\n        text-align: right;\n    }\n</style>\n<table border=\"1\" class=\"dataframe\">\n  <thead>\n    <tr style=\"text-align: right;\">\n      <th></th>\n      <th>Date</th>\n      <th>Time</th>\n      <th>Comp</th>\n      <th>Round</th>\n      <th>Day</th>\n      <th>Venue</th>\n      <th>Result</th>\n      <th>GF</th>\n      <th>GA</th>\n      <th>Opponent</th>\n      <th>...</th>\n      <th>Match Report</th>\n      <th>Notes</th>\n      <th>Sh</th>\n      <th>SoT</th>\n      <th>Dist</th>\n      <th>FK</th>\n      <th>PK</th>\n      <th>PKatt</th>\n      <th>Season</th>\n      <th>Team</th>\n    </tr>\n  </thead>\n  <tbody>\n    <tr>\n      <th>1</th>\n      <td>9/12/2020</td>\n      <td>17:30</td>\n      <td>Premier League</td>\n      <td>Matchweek 1</td>\n      <td>Sat</td>\n      <td>Home</td>\n      <td>W</td>\n      <td>4</td>\n      <td>3</td>\n      <td>Leeds United</td>\n      <td>...</td>\n      <td>Match Report</td>\n      <td>NaN</td>\n      <td>20</td>\n      <td>4</td>\n      <td>18.4</td>\n      <td>0</td>\n      <td>2</td>\n      <td>2</td>\n      <td>2021</td>\n      <td>Liverpool</td>\n    </tr>\n    <tr>\n      <th>0</th>\n      <td>9/12/2020</td>\n      <td>20:00</td>\n      <td>Premier League</td>\n      <td>Matchweek 1</td>\n      <td>Sat</td>\n      <td>Home</td>\n      <td>L</td>\n      <td>0</td>\n      <td>2</td>\n      <td>Newcastle Utd</td>\n      <td>...</td>\n      <td>Match Report</td>\n      <td>NaN</td>\n      <td>15</td>\n      <td>3</td>\n      <td>16.5</td>\n      <td>0</td>\n      <td>0</td>\n      <td>0</td>\n      <td>2021</td>\n      <td>WestHamUnited</td>\n    </tr>\n    <tr>\n      <th>1</th>\n      <td>9/12/2020</td>\n      <td>12:30</td>\n      <td>Premier League</td>\n      <td>Matchweek 1</td>\n      <td>Sat</td>\n      <td>Away</td>\n      <td>W</td>\n      <td>3</td>\n      <td>0</td>\n      <td>Fulham</td>\n      <td>...</td>\n      <td>Match Report</td>\n      <td>NaN</td>\n      <td>13</td>\n      <td>5</td>\n      <td>14.1</td>\n      <td>2</td>\n      <td>0</td>\n      <td>0</td>\n      <td>2021</td>\n      <td>Arsenal</td>\n    </tr>\n    <tr>\n      <th>0</th>\n      <td>9/12/2020</td>\n      <td>17:30</td>\n      <td>Premier League</td>\n      <td>Matchweek 1</td>\n      <td>Sat</td>\n      <td>Away</td>\n      <td>L</td>\n      <td>3</td>\n      <td>4</td>\n      <td>Liverpool</td>\n      <td>...</td>\n      <td>Match Report</td>\n      <td>NaN</td>\n      <td>6</td>\n      <td>3</td>\n      <td>19.9</td>\n      <td>1</td>\n      <td>0</td>\n      <td>0</td>\n      <td>2021</td>\n      <td>LeedsUnited</td>\n    </tr>\n    <tr>\n      <th>0</th>\n      <td>9/12/2020</td>\n      <td>20:00</td>\n      <td>Premier League</td>\n      <td>Matchweek 1</td>\n      <td>Sat</td>\n      <td>Away</td>\n      <td>W</td>\n      <td>2</td>\n      <td>0</td>\n      <td>West Ham</td>\n      <td>...</td>\n      <td>Match Report</td>\n      <td>NaN</td>\n      <td>15</td>\n      <td>2</td>\n      <td>17.6</td>\n      <td>1</td>\n      <td>0</td>\n      <td>0</td>\n      <td>2021</td>\n      <td>NewcastleUnited</td>\n    </tr>\n    <tr>\n      <th>...</th>\n      <td>...</td>\n      <td>...</td>\n      <td>...</td>\n      <td>...</td>\n      <td>...</td>\n      <td>...</td>\n      <td>...</td>\n      <td>...</td>\n      <td>...</td>\n      <td>...</td>\n      <td>...</td>\n      <td>...</td>\n      <td>...</td>\n      <td>...</td>\n      <td>...</td>\n      <td>...</td>\n      <td>...</td>\n      <td>...</td>\n      <td>...</td>\n      <td>...</td>\n      <td>...</td>\n    </tr>\n    <tr>\n      <th>44</th>\n      <td>5/28/2023</td>\n      <td>16:30</td>\n      <td>Premier League</td>\n      <td>Matchweek 38</td>\n      <td>Sun</td>\n      <td>Away</td>\n      <td>D</td>\n      <td>1</td>\n      <td>1</td>\n      <td>Crystal Palace</td>\n      <td>...</td>\n      <td>Match Report</td>\n      <td>NaN</td>\n      <td>7</td>\n      <td>4</td>\n      <td>17.0</td>\n      <td>0</td>\n      <td>0</td>\n      <td>0</td>\n      <td>2023</td>\n      <td>NottinghamForest</td>\n    </tr>\n    <tr>\n      <th>40</th>\n      <td>5/28/2023</td>\n      <td>16:30</td>\n      <td>Premier League</td>\n      <td>Matchweek 38</td>\n      <td>Sun</td>\n      <td>Home</td>\n      <td>W</td>\n      <td>1</td>\n      <td>0</td>\n      <td>Bournemouth</td>\n      <td>...</td>\n      <td>Match Report</td>\n      <td>NaN</td>\n      <td>13</td>\n      <td>6</td>\n      <td>17.2</td>\n      <td>0</td>\n      <td>0</td>\n      <td>0</td>\n      <td>2023</td>\n      <td>Everton</td>\n    </tr>\n    <tr>\n      <th>44</th>\n      <td>5/28/2023</td>\n      <td>16:30</td>\n      <td>Premier League</td>\n      <td>Matchweek 38</td>\n      <td>Sun</td>\n      <td>Home</td>\n      <td>W</td>\n      <td>2</td>\n      <td>1</td>\n      <td>West Ham</td>\n      <td>...</td>\n      <td>Match Report</td>\n      <td>NaN</td>\n      <td>13</td>\n      <td>4</td>\n      <td>17.5</td>\n      <td>0</td>\n      <td>0</td>\n      <td>0</td>\n      <td>2023</td>\n      <td>LeicesterCity</td>\n    </tr>\n    <tr>\n      <th>43</th>\n      <td>5/28/2023</td>\n      <td>16:30</td>\n      <td>Premier League</td>\n      <td>Matchweek 38</td>\n      <td>Sun</td>\n      <td>Home</td>\n      <td>L</td>\n      <td>1</td>\n      <td>4</td>\n      <td>Tottenham</td>\n      <td>...</td>\n      <td>Match Report</td>\n      <td>NaN</td>\n      <td>19</td>\n      <td>2</td>\n      <td>15.8</td>\n      <td>0</td>\n      <td>0</td>\n      <td>0</td>\n      <td>2023</td>\n      <td>LeedsUnited</td>\n    </tr>\n    <tr>\n      <th>46</th>\n      <td>5/28/2023</td>\n      <td>16:30</td>\n      <td>Premier League</td>\n      <td>Matchweek 38</td>\n      <td>Sun</td>\n      <td>Home</td>\n      <td>D</td>\n      <td>4</td>\n      <td>4</td>\n      <td>Liverpool</td>\n      <td>...</td>\n      <td>Match Report</td>\n      <td>NaN</td>\n      <td>15</td>\n      <td>10</td>\n      <td>17.5</td>\n      <td>1</td>\n      <td>0</td>\n      <td>0</td>\n      <td>2023</td>\n      <td>Southampton</td>\n    </tr>\n  </tbody>\n</table>\n<p>2280 rows × 27 columns</p>\n</div>"
     },
     "execution_count": 52,
     "metadata": {},
     "output_type": "execute_result"
    }
   ],
   "source": [
    "matches"
   ],
   "metadata": {
    "pycharm": {
     "name": "#%%\n"
    },
    "colab": {
     "base_uri": "https://localhost:8080/",
     "height": 423
    },
    "id": "dB53K-DgDotF",
    "outputId": "9f470946-35b1-4992-8043-fbd28051b831",
    "executionInfo": {
     "status": "ok",
     "timestamp": 1687270726155,
     "user_tz": -210,
     "elapsed": 31,
     "user": {
      "displayName": "soheil taheri",
      "userId": "00776671109671036609"
     }
    }
   }
  },
  {
   "cell_type": "code",
   "execution_count": 53,
   "outputs": [
    {
     "data": {
      "text/plain": "Index(['Date', 'Time', 'Comp', 'Round', 'Day', 'Venue', 'Result', 'GF', 'GA',\n       'Opponent', 'xG', 'xGA', 'Poss', 'Attendance', 'Captain', 'Formation',\n       'Referee', 'Match Report', 'Notes', 'Sh', 'SoT', 'Dist', 'FK', 'PK',\n       'PKatt', 'Season', 'Team'],\n      dtype='object')"
     },
     "execution_count": 53,
     "metadata": {},
     "output_type": "execute_result"
    }
   ],
   "source": [
    "matches.columns"
   ],
   "metadata": {
    "pycharm": {
     "name": "#%%\n"
    },
    "colab": {
     "base_uri": "https://localhost:8080/"
    },
    "id": "6KiBvSshDotH",
    "outputId": "6e971d62-0ded-49bd-844f-c05c33a81cba",
    "executionInfo": {
     "status": "ok",
     "timestamp": 1687270726156,
     "user_tz": -210,
     "elapsed": 31,
     "user": {
      "displayName": "soheil taheri",
      "userId": "00776671109671036609"
     }
    }
   }
  },
  {
   "cell_type": "code",
   "execution_count": 54,
   "outputs": [
    {
     "data": {
      "text/plain": "(2280, 27)"
     },
     "execution_count": 54,
     "metadata": {},
     "output_type": "execute_result"
    }
   ],
   "source": [
    "matches.shape"
   ],
   "metadata": {
    "pycharm": {
     "name": "#%%\n"
    },
    "colab": {
     "base_uri": "https://localhost:8080/"
    },
    "id": "_du6JM0sDotI",
    "outputId": "cf7ae8d2-cc30-4013-b7b9-b8d551d170d7",
    "executionInfo": {
     "status": "ok",
     "timestamp": 1687270726156,
     "user_tz": -210,
     "elapsed": 28,
     "user": {
      "displayName": "soheil taheri",
      "userId": "00776671109671036609"
     }
    }
   }
  },
  {
   "cell_type": "code",
   "execution_count": 55,
   "outputs": [
    {
     "data": {
      "text/plain": "2280"
     },
     "execution_count": 55,
     "metadata": {},
     "output_type": "execute_result"
    }
   ],
   "source": [
    "38 * 20 * 3"
   ],
   "metadata": {
    "pycharm": {
     "name": "#%%\n"
    },
    "id": "wljjR9AqDotI",
    "executionInfo": {
     "status": "ok",
     "timestamp": 1687270726156,
     "user_tz": -210,
     "elapsed": 26,
     "user": {
      "displayName": "soheil taheri",
      "userId": "00776671109671036609"
     }
    }
   }
  },
  {
   "cell_type": "code",
   "execution_count": 56,
   "outputs": [
    {
     "data": {
      "text/plain": "Team\nLiverpool                 114\nTottenhamHotspur          114\nAstonVilla                114\nManchesterCity            114\nManchesterUnited          114\nBrightonandHoveAlbion     114\nWolverhamptonWanderers    114\nWestHamUnited             114\nEverton                   114\nChelsea                   114\nLeicesterCity             114\nSouthampton               114\nCrystalPalace             114\nNewcastleUnited           114\nLeedsUnited               114\nArsenal                   114\nFulham                     76\nBurnley                    76\nBrentford                  76\nWestBromwichAlbion         38\nSheffieldUnited            38\nWatford                    38\nNorwichCity                38\nBournemouth                38\nNottinghamForest           38\nName: count, dtype: int64"
     },
     "execution_count": 56,
     "metadata": {},
     "output_type": "execute_result"
    }
   ],
   "source": [
    "matches['Team'].value_counts()"
   ],
   "metadata": {
    "pycharm": {
     "name": "#%%\n"
    },
    "colab": {
     "base_uri": "https://localhost:8080/"
    },
    "id": "etOaN9skDotJ",
    "outputId": "e308864e-b5f6-4536-9955-8100ebcb302c",
    "executionInfo": {
     "status": "ok",
     "timestamp": 1687270726156,
     "user_tz": -210,
     "elapsed": 26,
     "user": {
      "displayName": "soheil taheri",
      "userId": "00776671109671036609"
     }
    }
   }
  },
  {
   "cell_type": "code",
   "execution_count": 57,
   "outputs": [
    {
     "data": {
      "text/plain": "Round\nMatchweek 1     60\nMatchweek 27    60\nMatchweek 22    60\nMatchweek 23    60\nMatchweek 24    60\nMatchweek 25    60\nMatchweek 26    60\nMatchweek 29    60\nMatchweek 33    60\nMatchweek 28    60\nMatchweek 2     60\nMatchweek 30    60\nMatchweek 31    60\nMatchweek 32    60\nMatchweek 34    60\nMatchweek 35    60\nMatchweek 36    60\nMatchweek 37    60\nMatchweek 21    60\nMatchweek 20    60\nMatchweek 19    60\nMatchweek 18    60\nMatchweek 3     60\nMatchweek 4     60\nMatchweek 5     60\nMatchweek 6     60\nMatchweek 7     60\nMatchweek 8     60\nMatchweek 9     60\nMatchweek 10    60\nMatchweek 11    60\nMatchweek 12    60\nMatchweek 13    60\nMatchweek 14    60\nMatchweek 15    60\nMatchweek 16    60\nMatchweek 17    60\nMatchweek 38    60\nName: count, dtype: int64"
     },
     "execution_count": 57,
     "metadata": {},
     "output_type": "execute_result"
    }
   ],
   "source": [
    "matches['Round'].value_counts()"
   ],
   "metadata": {
    "pycharm": {
     "name": "#%%\n"
    },
    "colab": {
     "base_uri": "https://localhost:8080/"
    },
    "id": "i0rNrSiwDotJ",
    "outputId": "318c49d6-9b97-4c80-caec-23539b18fbe9",
    "executionInfo": {
     "status": "ok",
     "timestamp": 1687270726157,
     "user_tz": -210,
     "elapsed": 25,
     "user": {
      "displayName": "soheil taheri",
      "userId": "00776671109671036609"
     }
    }
   }
  },
  {
   "cell_type": "code",
   "execution_count": 58,
   "outputs": [
    {
     "data": {
      "text/plain": "Date             object\nTime             object\nComp             object\nRound            object\nDay              object\nVenue            object\nResult           object\nGF                int64\nGA                int64\nOpponent         object\nxG              float64\nxGA             float64\nPoss              int64\nAttendance      float64\nCaptain          object\nFormation        object\nReferee          object\nMatch Report     object\nNotes           float64\nSh                int64\nSoT               int64\nDist            float64\nFK                int64\nPK                int64\nPKatt             int64\nSeason            int64\nTeam             object\ndtype: object"
     },
     "execution_count": 58,
     "metadata": {},
     "output_type": "execute_result"
    }
   ],
   "source": [
    "matches.dtypes"
   ],
   "metadata": {
    "pycharm": {
     "name": "#%%\n"
    },
    "colab": {
     "base_uri": "https://localhost:8080/"
    },
    "id": "IcN41P4CDotK",
    "outputId": "d6023885-3b98-42e6-dfc7-561bceb14aa3",
    "executionInfo": {
     "status": "ok",
     "timestamp": 1687270726157,
     "user_tz": -210,
     "elapsed": 23,
     "user": {
      "displayName": "soheil taheri",
      "userId": "00776671109671036609"
     }
    }
   }
  },
  {
   "cell_type": "code",
   "execution_count": 59,
   "outputs": [
    {
     "data": {
      "text/plain": "                GF           GA           xG          xGA         Poss   \ncount  2280.000000  2280.000000  2280.000000  2280.000000  2280.000000  \\\nmean      1.394298     1.394298     1.351930     1.351930    50.000877   \nstd       1.302532     1.302532     0.802785     0.802785    12.549682   \nmin       0.000000     0.000000     0.000000     0.000000    18.000000   \n25%       0.000000     0.000000     0.700000     0.700000    40.000000   \n50%       1.000000     1.000000     1.200000     1.200000    50.000000   \n75%       2.000000     2.000000     1.800000     1.800000    60.000000   \nmax       9.000000     9.000000     5.900000     5.900000    82.000000   \n\n         Attendance  Notes           Sh          SoT         Dist   \ncount   1582.000000    0.0  2280.000000  2280.000000  2279.000000  \\\nmean   38491.620733    NaN    12.378509     4.131140    17.429311   \nstd    17017.259412    NaN     5.414554     2.397142     3.023881   \nmin     2000.000000    NaN     0.000000     0.000000     5.300000   \n25%    26911.500000    NaN     8.000000     2.000000    15.500000   \n50%    36405.000000    NaN    12.000000     4.000000    17.300000   \n75%    53024.750000    NaN    16.000000     6.000000    19.200000   \nmax    75546.000000    NaN    32.000000    15.000000    35.000000   \n\n                FK           PK        PKatt       Season  \ncount  2280.000000  2280.000000  2280.000000  2280.000000  \nmean      0.437281     0.114035     0.143421  2022.000000  \nstd       0.655430     0.337993     0.378272     0.816676  \nmin       0.000000     0.000000     0.000000  2021.000000  \n25%       0.000000     0.000000     0.000000  2021.000000  \n50%       0.000000     0.000000     0.000000  2022.000000  \n75%       1.000000     0.000000     0.000000  2023.000000  \nmax       4.000000     3.000000     3.000000  2023.000000  ",
      "text/html": "<div>\n<style scoped>\n    .dataframe tbody tr th:only-of-type {\n        vertical-align: middle;\n    }\n\n    .dataframe tbody tr th {\n        vertical-align: top;\n    }\n\n    .dataframe thead th {\n        text-align: right;\n    }\n</style>\n<table border=\"1\" class=\"dataframe\">\n  <thead>\n    <tr style=\"text-align: right;\">\n      <th></th>\n      <th>GF</th>\n      <th>GA</th>\n      <th>xG</th>\n      <th>xGA</th>\n      <th>Poss</th>\n      <th>Attendance</th>\n      <th>Notes</th>\n      <th>Sh</th>\n      <th>SoT</th>\n      <th>Dist</th>\n      <th>FK</th>\n      <th>PK</th>\n      <th>PKatt</th>\n      <th>Season</th>\n    </tr>\n  </thead>\n  <tbody>\n    <tr>\n      <th>count</th>\n      <td>2280.000000</td>\n      <td>2280.000000</td>\n      <td>2280.000000</td>\n      <td>2280.000000</td>\n      <td>2280.000000</td>\n      <td>1582.000000</td>\n      <td>0.0</td>\n      <td>2280.000000</td>\n      <td>2280.000000</td>\n      <td>2279.000000</td>\n      <td>2280.000000</td>\n      <td>2280.000000</td>\n      <td>2280.000000</td>\n      <td>2280.000000</td>\n    </tr>\n    <tr>\n      <th>mean</th>\n      <td>1.394298</td>\n      <td>1.394298</td>\n      <td>1.351930</td>\n      <td>1.351930</td>\n      <td>50.000877</td>\n      <td>38491.620733</td>\n      <td>NaN</td>\n      <td>12.378509</td>\n      <td>4.131140</td>\n      <td>17.429311</td>\n      <td>0.437281</td>\n      <td>0.114035</td>\n      <td>0.143421</td>\n      <td>2022.000000</td>\n    </tr>\n    <tr>\n      <th>std</th>\n      <td>1.302532</td>\n      <td>1.302532</td>\n      <td>0.802785</td>\n      <td>0.802785</td>\n      <td>12.549682</td>\n      <td>17017.259412</td>\n      <td>NaN</td>\n      <td>5.414554</td>\n      <td>2.397142</td>\n      <td>3.023881</td>\n      <td>0.655430</td>\n      <td>0.337993</td>\n      <td>0.378272</td>\n      <td>0.816676</td>\n    </tr>\n    <tr>\n      <th>min</th>\n      <td>0.000000</td>\n      <td>0.000000</td>\n      <td>0.000000</td>\n      <td>0.000000</td>\n      <td>18.000000</td>\n      <td>2000.000000</td>\n      <td>NaN</td>\n      <td>0.000000</td>\n      <td>0.000000</td>\n      <td>5.300000</td>\n      <td>0.000000</td>\n      <td>0.000000</td>\n      <td>0.000000</td>\n      <td>2021.000000</td>\n    </tr>\n    <tr>\n      <th>25%</th>\n      <td>0.000000</td>\n      <td>0.000000</td>\n      <td>0.700000</td>\n      <td>0.700000</td>\n      <td>40.000000</td>\n      <td>26911.500000</td>\n      <td>NaN</td>\n      <td>8.000000</td>\n      <td>2.000000</td>\n      <td>15.500000</td>\n      <td>0.000000</td>\n      <td>0.000000</td>\n      <td>0.000000</td>\n      <td>2021.000000</td>\n    </tr>\n    <tr>\n      <th>50%</th>\n      <td>1.000000</td>\n      <td>1.000000</td>\n      <td>1.200000</td>\n      <td>1.200000</td>\n      <td>50.000000</td>\n      <td>36405.000000</td>\n      <td>NaN</td>\n      <td>12.000000</td>\n      <td>4.000000</td>\n      <td>17.300000</td>\n      <td>0.000000</td>\n      <td>0.000000</td>\n      <td>0.000000</td>\n      <td>2022.000000</td>\n    </tr>\n    <tr>\n      <th>75%</th>\n      <td>2.000000</td>\n      <td>2.000000</td>\n      <td>1.800000</td>\n      <td>1.800000</td>\n      <td>60.000000</td>\n      <td>53024.750000</td>\n      <td>NaN</td>\n      <td>16.000000</td>\n      <td>6.000000</td>\n      <td>19.200000</td>\n      <td>1.000000</td>\n      <td>0.000000</td>\n      <td>0.000000</td>\n      <td>2023.000000</td>\n    </tr>\n    <tr>\n      <th>max</th>\n      <td>9.000000</td>\n      <td>9.000000</td>\n      <td>5.900000</td>\n      <td>5.900000</td>\n      <td>82.000000</td>\n      <td>75546.000000</td>\n      <td>NaN</td>\n      <td>32.000000</td>\n      <td>15.000000</td>\n      <td>35.000000</td>\n      <td>4.000000</td>\n      <td>3.000000</td>\n      <td>3.000000</td>\n      <td>2023.000000</td>\n    </tr>\n  </tbody>\n</table>\n</div>"
     },
     "execution_count": 59,
     "metadata": {},
     "output_type": "execute_result"
    }
   ],
   "source": [
    "matches.describe()"
   ],
   "metadata": {
    "pycharm": {
     "name": "#%%\n"
    },
    "colab": {
     "base_uri": "https://localhost:8080/",
     "height": 300
    },
    "id": "l44tM0fSDotK",
    "outputId": "c975695c-6237-4415-e5c5-8b0cc42a23e4",
    "executionInfo": {
     "status": "ok",
     "timestamp": 1687270726157,
     "user_tz": -210,
     "elapsed": 21,
     "user": {
      "displayName": "soheil taheri",
      "userId": "00776671109671036609"
     }
    }
   }
  },
  {
   "cell_type": "code",
   "execution_count": 60,
   "outputs": [],
   "source": [
    "# matches['Dist'].isnull().sum()\n",
    "# matches['FK'].isnull().sum()\n",
    "matches['xGA'] = matches['xGA'].fillna(matches['xGA'].mean())\n",
    "matches['xG'] = matches['xG'].fillna(matches['xG'].mean())\n",
    "matches['Dist'] = matches['Dist'].fillna(matches['Dist'].mean())\n",
    "matches['FK'] = matches['FK'].fillna(matches['FK'].mean())"
   ],
   "metadata": {
    "pycharm": {
     "name": "#%%\n"
    },
    "id": "491oWj9NDotL",
    "executionInfo": {
     "status": "ok",
     "timestamp": 1687270726158,
     "user_tz": -210,
     "elapsed": 21,
     "user": {
      "displayName": "soheil taheri",
      "userId": "00776671109671036609"
     }
    }
   }
  },
  {
   "cell_type": "code",
   "execution_count": 61,
   "outputs": [],
   "source": [
    "class missingDict(dict):\n",
    "    __missing__ = lambda self, key: key\n",
    "\n",
    "map_values = {\n",
    "    'RealMadrid' : 'Real Madrid',\n",
    "    'AtleticoMadrid' : 'Atlético Madrid',\n",
    "    'RealSociedad' : 'Real Sociedad',\n",
    "    'RealBetis' : 'Betis',\n",
    "    'AthleticClub' : 'Athletic Club',\n",
    "    'RayoVallecano' : 'Rayo Vallecano',\n",
    "    'CeltaVigo' : 'Celta Vigo',\n",
    "    'Cadiz' : 'Cádiz',\n",
    "    'Almeria' : 'Almería',\n",
    "    'Alaves' : 'Alavés',\n",
    "    'AstonVilla' : 'Aston Villa',\n",
    "    'CrystalPalace' : 'Crystal Palace',\n",
    "    'LeedsUnited' : 'Leeds United',\n",
    "    'LeicesterCity' : 'Leicester City',\n",
    "    'ManchesterCity' : 'Manchester City',\n",
    "    'NorwichCity' : 'Norwich City',\n",
    "    'BrightonandHoveAlbion' : 'Brighton',\n",
    "    'WestBromwichAlbion': 'West Brom',\n",
    "    'SheffieldUnited': 'Sheffield Utd',\n",
    "    'ManchesterUnited' : 'Manchester Utd',\n",
    "    'NewcastleUnited' : 'Newcastle Utd',\n",
    "    'TottenhamHotspur' : 'Tottenham',\n",
    "    'WestHamUnited' : 'West Ham',\n",
    "    'WolverhamptonWanderers' : 'Wolves',\n",
    "    'NottinghamForest' : \"Nott'ham Forest\",\n",
    "    'ParisSaintGermain' : 'Paris S-G',\n",
    "    'ClermontFoot' : 'Clermont Foot',\n",
    "    'Nimes' : 'Nîmes',\n",
    "    'SaintEtienne' : 'Saint-Étienne',\n",
    "    'BayerLeverkusen' : 'Leverkusen',\n",
    "    'BayernMunich' : 'Bayern Munich',\n",
    "    'EintrachtFrankfurt' : 'Eint Frankfurt',\n",
    "    'HerthaBSC' : 'Hertha BSC',\n",
    "    'Koln' : 'Köln',\n",
    "    'Mainz05' : 'Mainz 05',\n",
    "    'Monchengladbach' : \"M'Gladbach\",\n",
    "    'RBLeipzig' : 'RB Leipzig',\n",
    "    'Schalke04' : 'Schalke 04',\n",
    "    'GreutherFurth' : 'Greuther Fürth',\n",
    "    'UnionBerlin' : 'Union Berlin',\n",
    "    'WerderBremen' : 'Werder Bremen',\n",
    "    'HellasVerona' : 'Hellas Verona',\n",
    "    'Internazionale' : 'Inter',\n",
    "}\n",
    "mapping = missingDict(**map_values)"
   ],
   "metadata": {
    "pycharm": {
     "name": "#%%\n"
    },
    "id": "F1dKqbdMDotM",
    "executionInfo": {
     "status": "ok",
     "timestamp": 1687270726159,
     "user_tz": -210,
     "elapsed": 21,
     "user": {
      "displayName": "soheil taheri",
      "userId": "00776671109671036609"
     }
    }
   }
  },
  {
   "cell_type": "code",
   "execution_count": 62,
   "outputs": [
    {
     "data": {
      "text/plain": "{'RealMadrid': 'Real Madrid',\n 'AtleticoMadrid': 'Atlético Madrid',\n 'RealSociedad': 'Real Sociedad',\n 'RealBetis': 'Betis',\n 'AthleticClub': 'Athletic Club',\n 'RayoVallecano': 'Rayo Vallecano',\n 'CeltaVigo': 'Celta Vigo',\n 'Cadiz': 'Cádiz',\n 'Almeria': 'Almería',\n 'Alaves': 'Alavés',\n 'AstonVilla': 'Aston Villa',\n 'CrystalPalace': 'Crystal Palace',\n 'LeedsUnited': 'Leeds United',\n 'LeicesterCity': 'Leicester City',\n 'ManchesterCity': 'Manchester City',\n 'NorwichCity': 'Norwich City',\n 'BrightonandHoveAlbion': 'Brighton',\n 'WestBromwichAlbion': 'West Brom',\n 'SheffieldUnited': 'Sheffield Utd',\n 'ManchesterUnited': 'Manchester Utd',\n 'NewcastleUnited': 'Newcastle Utd',\n 'TottenhamHotspur': 'Tottenham',\n 'WestHamUnited': 'West Ham',\n 'WolverhamptonWanderers': 'Wolves',\n 'NottinghamForest': \"Nott'ham Forest\",\n 'ParisSaintGermain': 'Paris S-G',\n 'ClermontFoot': 'Clermont Foot',\n 'Nimes': 'Nîmes',\n 'SaintEtienne': 'Saint-Étienne',\n 'BayerLeverkusen': 'Leverkusen',\n 'BayernMunich': 'Bayern Munich',\n 'EintrachtFrankfurt': 'Eint Frankfurt',\n 'HerthaBSC': 'Hertha BSC',\n 'Koln': 'Köln',\n 'Mainz05': 'Mainz 05',\n 'Monchengladbach': \"M'Gladbach\",\n 'RBLeipzig': 'RB Leipzig',\n 'Schalke04': 'Schalke 04',\n 'GreutherFurth': 'Greuther Fürth',\n 'UnionBerlin': 'Union Berlin',\n 'WerderBremen': 'Werder Bremen',\n 'HellasVerona': 'Hellas Verona',\n 'Internazionale': 'Inter'}"
     },
     "execution_count": 62,
     "metadata": {},
     "output_type": "execute_result"
    }
   ],
   "source": [
    "mapping"
   ],
   "metadata": {
    "collapsed": false,
    "pycharm": {
     "name": "#%%\n"
    }
   }
  },
  {
   "cell_type": "code",
   "execution_count": 63,
   "outputs": [],
   "source": [
    "matches['Team'] = matches['Team'].map(mapping)"
   ],
   "metadata": {
    "pycharm": {
     "name": "#%%\n"
    },
    "id": "eSJ-444DDotM",
    "executionInfo": {
     "status": "ok",
     "timestamp": 1687270726159,
     "user_tz": -210,
     "elapsed": 21,
     "user": {
      "displayName": "soheil taheri",
      "userId": "00776671109671036609"
     }
    }
   }
  },
  {
   "cell_type": "code",
   "execution_count": 64,
   "outputs": [],
   "source": [
    "matches['Date'] = pd.to_datetime(matches['Date'])"
   ],
   "metadata": {
    "collapsed": false,
    "pycharm": {
     "name": "#%%\n"
    }
   }
  },
  {
   "cell_type": "code",
   "execution_count": 65,
   "outputs": [],
   "source": [
    "# change the home and away state to 0 & 1\n",
    "matches['venue_code'] = matches['Venue'].astype('category').cat.codes"
   ],
   "metadata": {
    "pycharm": {
     "name": "#%%\n"
    },
    "id": "40E7B6lUDotM",
    "executionInfo": {
     "status": "ok",
     "timestamp": 1687270726159,
     "user_tz": -210,
     "elapsed": 22,
     "user": {
      "displayName": "soheil taheri",
      "userId": "00776671109671036609"
     }
    }
   }
  },
  {
   "cell_type": "code",
   "execution_count": 66,
   "outputs": [],
   "source": [
    "# give each team a code and 20 team is available so code start from 0 to 19\n",
    "matches['opp_code'] = matches['Opponent'].astype('category').cat.codes"
   ],
   "metadata": {
    "pycharm": {
     "name": "#%%\n"
    },
    "id": "-cnxZGMsDotN",
    "executionInfo": {
     "status": "ok",
     "timestamp": 1687270726160,
     "user_tz": -210,
     "elapsed": 22,
     "user": {
      "displayName": "soheil taheri",
      "userId": "00776671109671036609"
     }
    }
   }
  },
  {
   "cell_type": "code",
   "execution_count": 67,
   "outputs": [],
   "source": [
    "matches['team_code'] = matches['Team'].astype('category').cat.codes"
   ],
   "metadata": {
    "pycharm": {
     "name": "#%%\n"
    },
    "id": "-lzKjxAPDotN",
    "executionInfo": {
     "status": "ok",
     "timestamp": 1687270726161,
     "user_tz": -210,
     "elapsed": 22,
     "user": {
      "displayName": "soheil taheri",
      "userId": "00776671109671036609"
     }
    }
   }
  },
  {
   "cell_type": "code",
   "execution_count": 68,
   "outputs": [],
   "source": [
    "# changes in match time because we need the hour of match\n",
    "matches['hour'] = matches['Time'].str.replace(':.+', '', regex=True).astype('int')"
   ],
   "metadata": {
    "pycharm": {
     "name": "#%%\n"
    },
    "id": "NESGUMSuDotN",
    "executionInfo": {
     "status": "ok",
     "timestamp": 1687270726161,
     "user_tz": -210,
     "elapsed": 22,
     "user": {
      "displayName": "soheil taheri",
      "userId": "00776671109671036609"
     }
    }
   }
  },
  {
   "cell_type": "code",
   "execution_count": 69,
   "outputs": [],
   "source": [
    "# from date of the match we give the day of the week and change it to unique code\n",
    "matches['day_code'] = matches['Date'].dt.dayofweek"
   ],
   "metadata": {
    "pycharm": {
     "name": "#%%\n"
    },
    "id": "sYF9rv_YDotO",
    "executionInfo": {
     "status": "ok",
     "timestamp": 1687270726162,
     "user_tz": -210,
     "elapsed": 23,
     "user": {
      "displayName": "soheil taheri",
      "userId": "00776671109671036609"
     }
    }
   }
  },
  {
   "cell_type": "code",
   "execution_count": 70,
   "outputs": [],
   "source": [
    "# create column target if team wins give 1 and if loose or draw give 0\n",
    "matches['target'] = (matches['Result'] == 'W').astype('int')\n",
    "\n",
    "# def change_result(Result):\n",
    "#     if Result == 'W':\n",
    "#         return 2\n",
    "#     elif Result == 'L':\n",
    "#         return 1\n",
    "#     else:\n",
    "#         return 0\n",
    "\n",
    "# matches['target'] = matches['Result'].apply(lambda x: change_result(x))\n",
    "\n",
    "# matches.dtypes"
   ],
   "metadata": {
    "pycharm": {
     "name": "#%%\n"
    },
    "id": "Iy-MvlZ6DotO",
    "executionInfo": {
     "status": "ok",
     "timestamp": 1687270726162,
     "user_tz": -210,
     "elapsed": 23,
     "user": {
      "displayName": "soheil taheri",
      "userId": "00776671109671036609"
     }
    }
   }
  },
  {
   "cell_type": "code",
   "execution_count": 71,
   "outputs": [
    {
     "data": {
      "text/plain": "         Date   Time            Comp         Round  Day Venue Result  GF  GA   \n1  2020-09-12  17:30  Premier League   Matchweek 1  Sat  Home      W   4   3  \\\n0  2020-09-12  20:00  Premier League   Matchweek 1  Sat  Home      L   0   2   \n1  2020-09-12  12:30  Premier League   Matchweek 1  Sat  Away      W   3   0   \n0  2020-09-12  17:30  Premier League   Matchweek 1  Sat  Away      L   3   4   \n0  2020-09-12  20:00  Premier League   Matchweek 1  Sat  Away      W   2   0   \n..        ...    ...             ...           ...  ...   ...    ...  ..  ..   \n44 2023-05-28  16:30  Premier League  Matchweek 38  Sun  Away      D   1   1   \n40 2023-05-28  16:30  Premier League  Matchweek 38  Sun  Home      W   1   0   \n44 2023-05-28  16:30  Premier League  Matchweek 38  Sun  Home      W   2   1   \n43 2023-05-28  16:30  Premier League  Matchweek 38  Sun  Home      L   1   4   \n46 2023-05-28  16:30  Premier League  Matchweek 38  Sun  Home      D   4   4   \n\n          Opponent  ...  PK  PKatt  Season             Team venue_code   \n1     Leeds United  ...   2      2    2021        Liverpool          1  \\\n0    Newcastle Utd  ...   0      0    2021         West Ham          1   \n1           Fulham  ...   0      0    2021          Arsenal          0   \n0        Liverpool  ...   0      0    2021     Leeds United          0   \n0         West Ham  ...   0      0    2021    Newcastle Utd          0   \n..             ...  ...  ..    ...     ...              ...        ...   \n44  Crystal Palace  ...   0      0    2023  Nott'ham Forest          0   \n40     Bournemouth  ...   0      0    2023          Everton          1   \n44        West Ham  ...   0      0    2023   Leicester City          1   \n43       Tottenham  ...   0      0    2023     Leeds United          1   \n46       Liverpool  ...   0      0    2023      Southampton          1   \n\n   opp_code team_code hour  day_code  target  \n1        10        12   17         5       1  \n0        15        23   20         5       0  \n1         9         0   12         5       1  \n0        12        10   17         5       0  \n0        23        15   20         5       1  \n..      ...       ...  ...       ...     ...  \n44        7        17   16         6       0  \n40        2         8   16         6       1  \n44       23        11   16         6       1  \n43       20        10   16         6       0  \n46       12        19   16         6       0  \n\n[2280 rows x 33 columns]",
      "text/html": "<div>\n<style scoped>\n    .dataframe tbody tr th:only-of-type {\n        vertical-align: middle;\n    }\n\n    .dataframe tbody tr th {\n        vertical-align: top;\n    }\n\n    .dataframe thead th {\n        text-align: right;\n    }\n</style>\n<table border=\"1\" class=\"dataframe\">\n  <thead>\n    <tr style=\"text-align: right;\">\n      <th></th>\n      <th>Date</th>\n      <th>Time</th>\n      <th>Comp</th>\n      <th>Round</th>\n      <th>Day</th>\n      <th>Venue</th>\n      <th>Result</th>\n      <th>GF</th>\n      <th>GA</th>\n      <th>Opponent</th>\n      <th>...</th>\n      <th>PK</th>\n      <th>PKatt</th>\n      <th>Season</th>\n      <th>Team</th>\n      <th>venue_code</th>\n      <th>opp_code</th>\n      <th>team_code</th>\n      <th>hour</th>\n      <th>day_code</th>\n      <th>target</th>\n    </tr>\n  </thead>\n  <tbody>\n    <tr>\n      <th>1</th>\n      <td>2020-09-12</td>\n      <td>17:30</td>\n      <td>Premier League</td>\n      <td>Matchweek 1</td>\n      <td>Sat</td>\n      <td>Home</td>\n      <td>W</td>\n      <td>4</td>\n      <td>3</td>\n      <td>Leeds United</td>\n      <td>...</td>\n      <td>2</td>\n      <td>2</td>\n      <td>2021</td>\n      <td>Liverpool</td>\n      <td>1</td>\n      <td>10</td>\n      <td>12</td>\n      <td>17</td>\n      <td>5</td>\n      <td>1</td>\n    </tr>\n    <tr>\n      <th>0</th>\n      <td>2020-09-12</td>\n      <td>20:00</td>\n      <td>Premier League</td>\n      <td>Matchweek 1</td>\n      <td>Sat</td>\n      <td>Home</td>\n      <td>L</td>\n      <td>0</td>\n      <td>2</td>\n      <td>Newcastle Utd</td>\n      <td>...</td>\n      <td>0</td>\n      <td>0</td>\n      <td>2021</td>\n      <td>West Ham</td>\n      <td>1</td>\n      <td>15</td>\n      <td>23</td>\n      <td>20</td>\n      <td>5</td>\n      <td>0</td>\n    </tr>\n    <tr>\n      <th>1</th>\n      <td>2020-09-12</td>\n      <td>12:30</td>\n      <td>Premier League</td>\n      <td>Matchweek 1</td>\n      <td>Sat</td>\n      <td>Away</td>\n      <td>W</td>\n      <td>3</td>\n      <td>0</td>\n      <td>Fulham</td>\n      <td>...</td>\n      <td>0</td>\n      <td>0</td>\n      <td>2021</td>\n      <td>Arsenal</td>\n      <td>0</td>\n      <td>9</td>\n      <td>0</td>\n      <td>12</td>\n      <td>5</td>\n      <td>1</td>\n    </tr>\n    <tr>\n      <th>0</th>\n      <td>2020-09-12</td>\n      <td>17:30</td>\n      <td>Premier League</td>\n      <td>Matchweek 1</td>\n      <td>Sat</td>\n      <td>Away</td>\n      <td>L</td>\n      <td>3</td>\n      <td>4</td>\n      <td>Liverpool</td>\n      <td>...</td>\n      <td>0</td>\n      <td>0</td>\n      <td>2021</td>\n      <td>Leeds United</td>\n      <td>0</td>\n      <td>12</td>\n      <td>10</td>\n      <td>17</td>\n      <td>5</td>\n      <td>0</td>\n    </tr>\n    <tr>\n      <th>0</th>\n      <td>2020-09-12</td>\n      <td>20:00</td>\n      <td>Premier League</td>\n      <td>Matchweek 1</td>\n      <td>Sat</td>\n      <td>Away</td>\n      <td>W</td>\n      <td>2</td>\n      <td>0</td>\n      <td>West Ham</td>\n      <td>...</td>\n      <td>0</td>\n      <td>0</td>\n      <td>2021</td>\n      <td>Newcastle Utd</td>\n      <td>0</td>\n      <td>23</td>\n      <td>15</td>\n      <td>20</td>\n      <td>5</td>\n      <td>1</td>\n    </tr>\n    <tr>\n      <th>...</th>\n      <td>...</td>\n      <td>...</td>\n      <td>...</td>\n      <td>...</td>\n      <td>...</td>\n      <td>...</td>\n      <td>...</td>\n      <td>...</td>\n      <td>...</td>\n      <td>...</td>\n      <td>...</td>\n      <td>...</td>\n      <td>...</td>\n      <td>...</td>\n      <td>...</td>\n      <td>...</td>\n      <td>...</td>\n      <td>...</td>\n      <td>...</td>\n      <td>...</td>\n      <td>...</td>\n    </tr>\n    <tr>\n      <th>44</th>\n      <td>2023-05-28</td>\n      <td>16:30</td>\n      <td>Premier League</td>\n      <td>Matchweek 38</td>\n      <td>Sun</td>\n      <td>Away</td>\n      <td>D</td>\n      <td>1</td>\n      <td>1</td>\n      <td>Crystal Palace</td>\n      <td>...</td>\n      <td>0</td>\n      <td>0</td>\n      <td>2023</td>\n      <td>Nott'ham Forest</td>\n      <td>0</td>\n      <td>7</td>\n      <td>17</td>\n      <td>16</td>\n      <td>6</td>\n      <td>0</td>\n    </tr>\n    <tr>\n      <th>40</th>\n      <td>2023-05-28</td>\n      <td>16:30</td>\n      <td>Premier League</td>\n      <td>Matchweek 38</td>\n      <td>Sun</td>\n      <td>Home</td>\n      <td>W</td>\n      <td>1</td>\n      <td>0</td>\n      <td>Bournemouth</td>\n      <td>...</td>\n      <td>0</td>\n      <td>0</td>\n      <td>2023</td>\n      <td>Everton</td>\n      <td>1</td>\n      <td>2</td>\n      <td>8</td>\n      <td>16</td>\n      <td>6</td>\n      <td>1</td>\n    </tr>\n    <tr>\n      <th>44</th>\n      <td>2023-05-28</td>\n      <td>16:30</td>\n      <td>Premier League</td>\n      <td>Matchweek 38</td>\n      <td>Sun</td>\n      <td>Home</td>\n      <td>W</td>\n      <td>2</td>\n      <td>1</td>\n      <td>West Ham</td>\n      <td>...</td>\n      <td>0</td>\n      <td>0</td>\n      <td>2023</td>\n      <td>Leicester City</td>\n      <td>1</td>\n      <td>23</td>\n      <td>11</td>\n      <td>16</td>\n      <td>6</td>\n      <td>1</td>\n    </tr>\n    <tr>\n      <th>43</th>\n      <td>2023-05-28</td>\n      <td>16:30</td>\n      <td>Premier League</td>\n      <td>Matchweek 38</td>\n      <td>Sun</td>\n      <td>Home</td>\n      <td>L</td>\n      <td>1</td>\n      <td>4</td>\n      <td>Tottenham</td>\n      <td>...</td>\n      <td>0</td>\n      <td>0</td>\n      <td>2023</td>\n      <td>Leeds United</td>\n      <td>1</td>\n      <td>20</td>\n      <td>10</td>\n      <td>16</td>\n      <td>6</td>\n      <td>0</td>\n    </tr>\n    <tr>\n      <th>46</th>\n      <td>2023-05-28</td>\n      <td>16:30</td>\n      <td>Premier League</td>\n      <td>Matchweek 38</td>\n      <td>Sun</td>\n      <td>Home</td>\n      <td>D</td>\n      <td>4</td>\n      <td>4</td>\n      <td>Liverpool</td>\n      <td>...</td>\n      <td>0</td>\n      <td>0</td>\n      <td>2023</td>\n      <td>Southampton</td>\n      <td>1</td>\n      <td>12</td>\n      <td>19</td>\n      <td>16</td>\n      <td>6</td>\n      <td>0</td>\n    </tr>\n  </tbody>\n</table>\n<p>2280 rows × 33 columns</p>\n</div>"
     },
     "execution_count": 71,
     "metadata": {},
     "output_type": "execute_result"
    }
   ],
   "source": [
    "matches"
   ],
   "metadata": {
    "pycharm": {
     "name": "#%%\n"
    },
    "colab": {
     "base_uri": "https://localhost:8080/",
     "height": 423
    },
    "id": "C8_8pA3EDotO",
    "outputId": "72f9c716-aa82-4234-e37a-c86d8a0aadd7",
    "executionInfo": {
     "status": "ok",
     "timestamp": 1687270726162,
     "user_tz": -210,
     "elapsed": 22,
     "user": {
      "displayName": "soheil taheri",
      "userId": "00776671109671036609"
     }
    }
   }
  },
  {
   "cell_type": "code",
   "execution_count": 72,
   "outputs": [],
   "source": [
    "def rolling_average(group, cols, new_cols):\n",
    "    group = group.sort_values('Date')\n",
    "    rolling_stats = group[cols].rolling(5, closed='left').mean()\n",
    "    group['GF_rolling'] = rolling_stats['GF']\n",
    "    group['GA_rolling'] = rolling_stats['GA']\n",
    "    group['Sh_rolling'] = rolling_stats['Sh']\n",
    "    group['SoT_rolling'] = rolling_stats['SoT']\n",
    "    group['Dist_rolling'] = rolling_stats['Dist']\n",
    "    group['FK_rolling'] = rolling_stats['FK']\n",
    "    group['PK_rolling'] = rolling_stats['PK']\n",
    "    group['PKatt_rolling'] = rolling_stats['PKatt']\n",
    "    # group['new_cols'] = rolling_stats\n",
    "    # group = group.dropna(subset=new_cols)\n",
    "    group[new_cols] = group[new_cols].fillna(group[~(group[new_cols].isna())][new_cols].mean())\n",
    "    return group"
   ],
   "metadata": {
    "pycharm": {
     "name": "#%%\n"
    },
    "id": "wqU1dO3zDoti",
    "executionInfo": {
     "status": "ok",
     "timestamp": 1687270726164,
     "user_tz": -210,
     "elapsed": 23,
     "user": {
      "displayName": "soheil taheri",
      "userId": "00776671109671036609"
     }
    }
   }
  },
  {
   "cell_type": "code",
   "execution_count": 73,
   "outputs": [],
   "source": [
    "cols = ['GF', 'GA', 'Sh', 'SoT', 'Dist', 'FK', 'PK','PKatt']\n",
    "new_cols = [f'{c}_rolling' for c in cols]"
   ],
   "metadata": {
    "pycharm": {
     "name": "#%%\n"
    },
    "id": "Tk8gqi9oDoti",
    "executionInfo": {
     "status": "ok",
     "timestamp": 1687270726165,
     "user_tz": -210,
     "elapsed": 23,
     "user": {
      "displayName": "soheil taheri",
      "userId": "00776671109671036609"
     }
    }
   }
  },
  {
   "cell_type": "code",
   "execution_count": 74,
   "outputs": [
    {
     "data": {
      "text/plain": "['GF_rolling',\n 'GA_rolling',\n 'Sh_rolling',\n 'SoT_rolling',\n 'Dist_rolling',\n 'FK_rolling',\n 'PK_rolling',\n 'PKatt_rolling']"
     },
     "execution_count": 74,
     "metadata": {},
     "output_type": "execute_result"
    }
   ],
   "source": [
    "new_cols"
   ],
   "metadata": {
    "pycharm": {
     "name": "#%%\n"
    },
    "colab": {
     "base_uri": "https://localhost:8080/"
    },
    "id": "WNO-QyV6Dotj",
    "outputId": "99ebc65b-33cd-44df-a484-7a16e38d26d4",
    "executionInfo": {
     "status": "ok",
     "timestamp": 1687270726166,
     "user_tz": -210,
     "elapsed": 24,
     "user": {
      "displayName": "soheil taheri",
      "userId": "00776671109671036609"
     }
    }
   }
  },
  {
   "cell_type": "code",
   "execution_count": 75,
   "outputs": [
    {
     "data": {
      "text/plain": "                 Date   Time            Comp         Round  Day Venue Result   \nTeam                                                                           \nArsenal 1  2020-09-12  12:30  Premier League   Matchweek 1  Sat  Away      W  \\\n        2  2020-09-19  20:00  Premier League   Matchweek 2  Sat  Home      W   \n        4  2020-09-28  20:00  Premier League   Matchweek 3  Mon  Away      L   \n        6  2020-10-04  14:00  Premier League   Matchweek 4  Sun  Home      W   \n        7  2020-10-17  17:30  Premier League   Matchweek 5  Sat  Away      L   \n...               ...    ...             ...           ...  ...   ...    ...   \nWolves  39 2023-04-29  15:00  Premier League  Matchweek 34  Sat  Away      L   \n        40 2023-05-06  15:00  Premier League  Matchweek 35  Sat  Home      W   \n        41 2023-05-13  15:00  Premier League  Matchweek 36  Sat  Away      L   \n        42 2023-05-20  15:00  Premier League  Matchweek 37  Sat  Home      D   \n        43 2023-05-28  16:30  Premier League  Matchweek 38  Sun  Away      L   \n\n            GF  GA         Opponent  ...  day_code  target  GF_rolling   \nTeam                                 ...                                 \nArsenal 1    3   0           Fulham  ...         5       1    1.772477  \\\n        2    2   1         West Ham  ...         5       1    1.772477   \n        4    1   3        Liverpool  ...         0       0    1.772477   \n        6    2   1    Sheffield Utd  ...         6       1    1.772477   \n        7    0   1  Manchester City  ...         5       0    1.772477   \n...         ..  ..              ...  ...       ...     ...         ...   \nWolves  39   0   6         Brighton  ...         5       0    1.400000   \n        40   1   0      Aston Villa  ...         5       1    1.200000   \n        41   0   2   Manchester Utd  ...         5       0    1.200000   \n        42   1   1          Everton  ...         5       0    0.800000   \n        43   0   5          Arsenal  ...         6       0    0.800000   \n\n            GA_rolling Sh_rolling SoT_rolling Dist_rolling FK_rolling   \nTeam                                                                    \nArsenal 1     1.148624  14.377982    4.552294    17.351193   0.526606  \\\n        2     1.148624  14.377982    4.552294    17.351193   0.526606   \n        4     1.148624  14.377982    4.552294    17.351193   0.526606   \n        6     1.148624  14.377982    4.552294    17.351193   0.526606   \n        7     1.148624  14.377982    4.552294    17.351193   0.526606   \n...                ...        ...         ...          ...        ...   \nWolves  39    0.600000  10.400000    3.800000    19.500000   0.400000   \n        40    1.600000  10.800000    4.000000    19.800000   0.400000   \n        41    1.600000  10.200000    3.600000    18.480000   0.400000   \n        42    2.000000   9.000000    1.800000    16.900000   0.400000   \n        43    1.800000   8.400000    2.200000    16.340000   0.200000   \n\n            PK_rolling  PKatt_rolling  \nTeam                                   \nArsenal 1      0.12844       0.165138  \n        2      0.12844       0.165138  \n        4      0.12844       0.165138  \n        6      0.12844       0.165138  \n        7      0.12844       0.165138  \n...                ...            ...  \nWolves  39     0.20000       0.200000  \n        40     0.20000       0.200000  \n        41     0.20000       0.200000  \n        42     0.20000       0.200000  \n        43     0.20000       0.200000  \n\n[2280 rows x 41 columns]",
      "text/html": "<div>\n<style scoped>\n    .dataframe tbody tr th:only-of-type {\n        vertical-align: middle;\n    }\n\n    .dataframe tbody tr th {\n        vertical-align: top;\n    }\n\n    .dataframe thead th {\n        text-align: right;\n    }\n</style>\n<table border=\"1\" class=\"dataframe\">\n  <thead>\n    <tr style=\"text-align: right;\">\n      <th></th>\n      <th></th>\n      <th>Date</th>\n      <th>Time</th>\n      <th>Comp</th>\n      <th>Round</th>\n      <th>Day</th>\n      <th>Venue</th>\n      <th>Result</th>\n      <th>GF</th>\n      <th>GA</th>\n      <th>Opponent</th>\n      <th>...</th>\n      <th>day_code</th>\n      <th>target</th>\n      <th>GF_rolling</th>\n      <th>GA_rolling</th>\n      <th>Sh_rolling</th>\n      <th>SoT_rolling</th>\n      <th>Dist_rolling</th>\n      <th>FK_rolling</th>\n      <th>PK_rolling</th>\n      <th>PKatt_rolling</th>\n    </tr>\n    <tr>\n      <th>Team</th>\n      <th></th>\n      <th></th>\n      <th></th>\n      <th></th>\n      <th></th>\n      <th></th>\n      <th></th>\n      <th></th>\n      <th></th>\n      <th></th>\n      <th></th>\n      <th></th>\n      <th></th>\n      <th></th>\n      <th></th>\n      <th></th>\n      <th></th>\n      <th></th>\n      <th></th>\n      <th></th>\n      <th></th>\n      <th></th>\n    </tr>\n  </thead>\n  <tbody>\n    <tr>\n      <th rowspan=\"5\" valign=\"top\">Arsenal</th>\n      <th>1</th>\n      <td>2020-09-12</td>\n      <td>12:30</td>\n      <td>Premier League</td>\n      <td>Matchweek 1</td>\n      <td>Sat</td>\n      <td>Away</td>\n      <td>W</td>\n      <td>3</td>\n      <td>0</td>\n      <td>Fulham</td>\n      <td>...</td>\n      <td>5</td>\n      <td>1</td>\n      <td>1.772477</td>\n      <td>1.148624</td>\n      <td>14.377982</td>\n      <td>4.552294</td>\n      <td>17.351193</td>\n      <td>0.526606</td>\n      <td>0.12844</td>\n      <td>0.165138</td>\n    </tr>\n    <tr>\n      <th>2</th>\n      <td>2020-09-19</td>\n      <td>20:00</td>\n      <td>Premier League</td>\n      <td>Matchweek 2</td>\n      <td>Sat</td>\n      <td>Home</td>\n      <td>W</td>\n      <td>2</td>\n      <td>1</td>\n      <td>West Ham</td>\n      <td>...</td>\n      <td>5</td>\n      <td>1</td>\n      <td>1.772477</td>\n      <td>1.148624</td>\n      <td>14.377982</td>\n      <td>4.552294</td>\n      <td>17.351193</td>\n      <td>0.526606</td>\n      <td>0.12844</td>\n      <td>0.165138</td>\n    </tr>\n    <tr>\n      <th>4</th>\n      <td>2020-09-28</td>\n      <td>20:00</td>\n      <td>Premier League</td>\n      <td>Matchweek 3</td>\n      <td>Mon</td>\n      <td>Away</td>\n      <td>L</td>\n      <td>1</td>\n      <td>3</td>\n      <td>Liverpool</td>\n      <td>...</td>\n      <td>0</td>\n      <td>0</td>\n      <td>1.772477</td>\n      <td>1.148624</td>\n      <td>14.377982</td>\n      <td>4.552294</td>\n      <td>17.351193</td>\n      <td>0.526606</td>\n      <td>0.12844</td>\n      <td>0.165138</td>\n    </tr>\n    <tr>\n      <th>6</th>\n      <td>2020-10-04</td>\n      <td>14:00</td>\n      <td>Premier League</td>\n      <td>Matchweek 4</td>\n      <td>Sun</td>\n      <td>Home</td>\n      <td>W</td>\n      <td>2</td>\n      <td>1</td>\n      <td>Sheffield Utd</td>\n      <td>...</td>\n      <td>6</td>\n      <td>1</td>\n      <td>1.772477</td>\n      <td>1.148624</td>\n      <td>14.377982</td>\n      <td>4.552294</td>\n      <td>17.351193</td>\n      <td>0.526606</td>\n      <td>0.12844</td>\n      <td>0.165138</td>\n    </tr>\n    <tr>\n      <th>7</th>\n      <td>2020-10-17</td>\n      <td>17:30</td>\n      <td>Premier League</td>\n      <td>Matchweek 5</td>\n      <td>Sat</td>\n      <td>Away</td>\n      <td>L</td>\n      <td>0</td>\n      <td>1</td>\n      <td>Manchester City</td>\n      <td>...</td>\n      <td>5</td>\n      <td>0</td>\n      <td>1.772477</td>\n      <td>1.148624</td>\n      <td>14.377982</td>\n      <td>4.552294</td>\n      <td>17.351193</td>\n      <td>0.526606</td>\n      <td>0.12844</td>\n      <td>0.165138</td>\n    </tr>\n    <tr>\n      <th>...</th>\n      <th>...</th>\n      <td>...</td>\n      <td>...</td>\n      <td>...</td>\n      <td>...</td>\n      <td>...</td>\n      <td>...</td>\n      <td>...</td>\n      <td>...</td>\n      <td>...</td>\n      <td>...</td>\n      <td>...</td>\n      <td>...</td>\n      <td>...</td>\n      <td>...</td>\n      <td>...</td>\n      <td>...</td>\n      <td>...</td>\n      <td>...</td>\n      <td>...</td>\n      <td>...</td>\n      <td>...</td>\n    </tr>\n    <tr>\n      <th rowspan=\"5\" valign=\"top\">Wolves</th>\n      <th>39</th>\n      <td>2023-04-29</td>\n      <td>15:00</td>\n      <td>Premier League</td>\n      <td>Matchweek 34</td>\n      <td>Sat</td>\n      <td>Away</td>\n      <td>L</td>\n      <td>0</td>\n      <td>6</td>\n      <td>Brighton</td>\n      <td>...</td>\n      <td>5</td>\n      <td>0</td>\n      <td>1.400000</td>\n      <td>0.600000</td>\n      <td>10.400000</td>\n      <td>3.800000</td>\n      <td>19.500000</td>\n      <td>0.400000</td>\n      <td>0.20000</td>\n      <td>0.200000</td>\n    </tr>\n    <tr>\n      <th>40</th>\n      <td>2023-05-06</td>\n      <td>15:00</td>\n      <td>Premier League</td>\n      <td>Matchweek 35</td>\n      <td>Sat</td>\n      <td>Home</td>\n      <td>W</td>\n      <td>1</td>\n      <td>0</td>\n      <td>Aston Villa</td>\n      <td>...</td>\n      <td>5</td>\n      <td>1</td>\n      <td>1.200000</td>\n      <td>1.600000</td>\n      <td>10.800000</td>\n      <td>4.000000</td>\n      <td>19.800000</td>\n      <td>0.400000</td>\n      <td>0.20000</td>\n      <td>0.200000</td>\n    </tr>\n    <tr>\n      <th>41</th>\n      <td>2023-05-13</td>\n      <td>15:00</td>\n      <td>Premier League</td>\n      <td>Matchweek 36</td>\n      <td>Sat</td>\n      <td>Away</td>\n      <td>L</td>\n      <td>0</td>\n      <td>2</td>\n      <td>Manchester Utd</td>\n      <td>...</td>\n      <td>5</td>\n      <td>0</td>\n      <td>1.200000</td>\n      <td>1.600000</td>\n      <td>10.200000</td>\n      <td>3.600000</td>\n      <td>18.480000</td>\n      <td>0.400000</td>\n      <td>0.20000</td>\n      <td>0.200000</td>\n    </tr>\n    <tr>\n      <th>42</th>\n      <td>2023-05-20</td>\n      <td>15:00</td>\n      <td>Premier League</td>\n      <td>Matchweek 37</td>\n      <td>Sat</td>\n      <td>Home</td>\n      <td>D</td>\n      <td>1</td>\n      <td>1</td>\n      <td>Everton</td>\n      <td>...</td>\n      <td>5</td>\n      <td>0</td>\n      <td>0.800000</td>\n      <td>2.000000</td>\n      <td>9.000000</td>\n      <td>1.800000</td>\n      <td>16.900000</td>\n      <td>0.400000</td>\n      <td>0.20000</td>\n      <td>0.200000</td>\n    </tr>\n    <tr>\n      <th>43</th>\n      <td>2023-05-28</td>\n      <td>16:30</td>\n      <td>Premier League</td>\n      <td>Matchweek 38</td>\n      <td>Sun</td>\n      <td>Away</td>\n      <td>L</td>\n      <td>0</td>\n      <td>5</td>\n      <td>Arsenal</td>\n      <td>...</td>\n      <td>6</td>\n      <td>0</td>\n      <td>0.800000</td>\n      <td>1.800000</td>\n      <td>8.400000</td>\n      <td>2.200000</td>\n      <td>16.340000</td>\n      <td>0.200000</td>\n      <td>0.20000</td>\n      <td>0.200000</td>\n    </tr>\n  </tbody>\n</table>\n<p>2280 rows × 41 columns</p>\n</div>"
     },
     "execution_count": 75,
     "metadata": {},
     "output_type": "execute_result"
    }
   ],
   "source": [
    "matches_rolling = matches.groupby('Team', group_keys=True).apply(lambda x: rolling_average(x, cols, new_cols))\n",
    "matches_rolling"
   ],
   "metadata": {
    "pycharm": {
     "name": "#%%\n"
    },
    "colab": {
     "base_uri": "https://localhost:8080/",
     "height": 692
    },
    "id": "qUoowzkSDotk",
    "outputId": "bd1a9d34-f205-4dbb-82b1-ce84eb9ea18f",
    "executionInfo": {
     "status": "ok",
     "timestamp": 1687270727440,
     "user_tz": -210,
     "elapsed": 1296,
     "user": {
      "displayName": "soheil taheri",
      "userId": "00776671109671036609"
     }
    }
   }
  },
  {
   "cell_type": "code",
   "execution_count": 76,
   "outputs": [],
   "source": [
    "matches_rolling = matches_rolling.droplevel('Team')"
   ],
   "metadata": {
    "pycharm": {
     "name": "#%%\n"
    },
    "id": "lf-DPOovDotk",
    "executionInfo": {
     "status": "ok",
     "timestamp": 1687270727441,
     "user_tz": -210,
     "elapsed": 20,
     "user": {
      "displayName": "soheil taheri",
      "userId": "00776671109671036609"
     }
    }
   }
  },
  {
   "cell_type": "code",
   "execution_count": 77,
   "outputs": [
    {
     "data": {
      "text/plain": "         Date   Time            Comp         Round  Day Venue Result  GF  GA   \n1  2020-09-12  12:30  Premier League   Matchweek 1  Sat  Away      W   3   0  \\\n2  2020-09-19  20:00  Premier League   Matchweek 2  Sat  Home      W   2   1   \n4  2020-09-28  20:00  Premier League   Matchweek 3  Mon  Away      L   1   3   \n6  2020-10-04  14:00  Premier League   Matchweek 4  Sun  Home      W   2   1   \n7  2020-10-17  17:30  Premier League   Matchweek 5  Sat  Away      L   0   1   \n..        ...    ...             ...           ...  ...   ...    ...  ..  ..   \n39 2023-04-29  15:00  Premier League  Matchweek 34  Sat  Away      L   0   6   \n40 2023-05-06  15:00  Premier League  Matchweek 35  Sat  Home      W   1   0   \n41 2023-05-13  15:00  Premier League  Matchweek 36  Sat  Away      L   0   2   \n42 2023-05-20  15:00  Premier League  Matchweek 37  Sat  Home      D   1   1   \n43 2023-05-28  16:30  Premier League  Matchweek 38  Sun  Away      L   0   5   \n\n           Opponent  ...  day_code  target  GF_rolling  GA_rolling Sh_rolling   \n1            Fulham  ...         5       1    1.772477    1.148624  14.377982  \\\n2          West Ham  ...         5       1    1.772477    1.148624  14.377982   \n4         Liverpool  ...         0       0    1.772477    1.148624  14.377982   \n6     Sheffield Utd  ...         6       1    1.772477    1.148624  14.377982   \n7   Manchester City  ...         5       0    1.772477    1.148624  14.377982   \n..              ...  ...       ...     ...         ...         ...        ...   \n39         Brighton  ...         5       0    1.400000    0.600000  10.400000   \n40      Aston Villa  ...         5       1    1.200000    1.600000  10.800000   \n41   Manchester Utd  ...         5       0    1.200000    1.600000  10.200000   \n42          Everton  ...         5       0    0.800000    2.000000   9.000000   \n43          Arsenal  ...         6       0    0.800000    1.800000   8.400000   \n\n   SoT_rolling Dist_rolling FK_rolling  PK_rolling  PKatt_rolling  \n1     4.552294    17.351193   0.526606     0.12844       0.165138  \n2     4.552294    17.351193   0.526606     0.12844       0.165138  \n4     4.552294    17.351193   0.526606     0.12844       0.165138  \n6     4.552294    17.351193   0.526606     0.12844       0.165138  \n7     4.552294    17.351193   0.526606     0.12844       0.165138  \n..         ...          ...        ...         ...            ...  \n39    3.800000    19.500000   0.400000     0.20000       0.200000  \n40    4.000000    19.800000   0.400000     0.20000       0.200000  \n41    3.600000    18.480000   0.400000     0.20000       0.200000  \n42    1.800000    16.900000   0.400000     0.20000       0.200000  \n43    2.200000    16.340000   0.200000     0.20000       0.200000  \n\n[2280 rows x 41 columns]",
      "text/html": "<div>\n<style scoped>\n    .dataframe tbody tr th:only-of-type {\n        vertical-align: middle;\n    }\n\n    .dataframe tbody tr th {\n        vertical-align: top;\n    }\n\n    .dataframe thead th {\n        text-align: right;\n    }\n</style>\n<table border=\"1\" class=\"dataframe\">\n  <thead>\n    <tr style=\"text-align: right;\">\n      <th></th>\n      <th>Date</th>\n      <th>Time</th>\n      <th>Comp</th>\n      <th>Round</th>\n      <th>Day</th>\n      <th>Venue</th>\n      <th>Result</th>\n      <th>GF</th>\n      <th>GA</th>\n      <th>Opponent</th>\n      <th>...</th>\n      <th>day_code</th>\n      <th>target</th>\n      <th>GF_rolling</th>\n      <th>GA_rolling</th>\n      <th>Sh_rolling</th>\n      <th>SoT_rolling</th>\n      <th>Dist_rolling</th>\n      <th>FK_rolling</th>\n      <th>PK_rolling</th>\n      <th>PKatt_rolling</th>\n    </tr>\n  </thead>\n  <tbody>\n    <tr>\n      <th>1</th>\n      <td>2020-09-12</td>\n      <td>12:30</td>\n      <td>Premier League</td>\n      <td>Matchweek 1</td>\n      <td>Sat</td>\n      <td>Away</td>\n      <td>W</td>\n      <td>3</td>\n      <td>0</td>\n      <td>Fulham</td>\n      <td>...</td>\n      <td>5</td>\n      <td>1</td>\n      <td>1.772477</td>\n      <td>1.148624</td>\n      <td>14.377982</td>\n      <td>4.552294</td>\n      <td>17.351193</td>\n      <td>0.526606</td>\n      <td>0.12844</td>\n      <td>0.165138</td>\n    </tr>\n    <tr>\n      <th>2</th>\n      <td>2020-09-19</td>\n      <td>20:00</td>\n      <td>Premier League</td>\n      <td>Matchweek 2</td>\n      <td>Sat</td>\n      <td>Home</td>\n      <td>W</td>\n      <td>2</td>\n      <td>1</td>\n      <td>West Ham</td>\n      <td>...</td>\n      <td>5</td>\n      <td>1</td>\n      <td>1.772477</td>\n      <td>1.148624</td>\n      <td>14.377982</td>\n      <td>4.552294</td>\n      <td>17.351193</td>\n      <td>0.526606</td>\n      <td>0.12844</td>\n      <td>0.165138</td>\n    </tr>\n    <tr>\n      <th>4</th>\n      <td>2020-09-28</td>\n      <td>20:00</td>\n      <td>Premier League</td>\n      <td>Matchweek 3</td>\n      <td>Mon</td>\n      <td>Away</td>\n      <td>L</td>\n      <td>1</td>\n      <td>3</td>\n      <td>Liverpool</td>\n      <td>...</td>\n      <td>0</td>\n      <td>0</td>\n      <td>1.772477</td>\n      <td>1.148624</td>\n      <td>14.377982</td>\n      <td>4.552294</td>\n      <td>17.351193</td>\n      <td>0.526606</td>\n      <td>0.12844</td>\n      <td>0.165138</td>\n    </tr>\n    <tr>\n      <th>6</th>\n      <td>2020-10-04</td>\n      <td>14:00</td>\n      <td>Premier League</td>\n      <td>Matchweek 4</td>\n      <td>Sun</td>\n      <td>Home</td>\n      <td>W</td>\n      <td>2</td>\n      <td>1</td>\n      <td>Sheffield Utd</td>\n      <td>...</td>\n      <td>6</td>\n      <td>1</td>\n      <td>1.772477</td>\n      <td>1.148624</td>\n      <td>14.377982</td>\n      <td>4.552294</td>\n      <td>17.351193</td>\n      <td>0.526606</td>\n      <td>0.12844</td>\n      <td>0.165138</td>\n    </tr>\n    <tr>\n      <th>7</th>\n      <td>2020-10-17</td>\n      <td>17:30</td>\n      <td>Premier League</td>\n      <td>Matchweek 5</td>\n      <td>Sat</td>\n      <td>Away</td>\n      <td>L</td>\n      <td>0</td>\n      <td>1</td>\n      <td>Manchester City</td>\n      <td>...</td>\n      <td>5</td>\n      <td>0</td>\n      <td>1.772477</td>\n      <td>1.148624</td>\n      <td>14.377982</td>\n      <td>4.552294</td>\n      <td>17.351193</td>\n      <td>0.526606</td>\n      <td>0.12844</td>\n      <td>0.165138</td>\n    </tr>\n    <tr>\n      <th>...</th>\n      <td>...</td>\n      <td>...</td>\n      <td>...</td>\n      <td>...</td>\n      <td>...</td>\n      <td>...</td>\n      <td>...</td>\n      <td>...</td>\n      <td>...</td>\n      <td>...</td>\n      <td>...</td>\n      <td>...</td>\n      <td>...</td>\n      <td>...</td>\n      <td>...</td>\n      <td>...</td>\n      <td>...</td>\n      <td>...</td>\n      <td>...</td>\n      <td>...</td>\n      <td>...</td>\n    </tr>\n    <tr>\n      <th>39</th>\n      <td>2023-04-29</td>\n      <td>15:00</td>\n      <td>Premier League</td>\n      <td>Matchweek 34</td>\n      <td>Sat</td>\n      <td>Away</td>\n      <td>L</td>\n      <td>0</td>\n      <td>6</td>\n      <td>Brighton</td>\n      <td>...</td>\n      <td>5</td>\n      <td>0</td>\n      <td>1.400000</td>\n      <td>0.600000</td>\n      <td>10.400000</td>\n      <td>3.800000</td>\n      <td>19.500000</td>\n      <td>0.400000</td>\n      <td>0.20000</td>\n      <td>0.200000</td>\n    </tr>\n    <tr>\n      <th>40</th>\n      <td>2023-05-06</td>\n      <td>15:00</td>\n      <td>Premier League</td>\n      <td>Matchweek 35</td>\n      <td>Sat</td>\n      <td>Home</td>\n      <td>W</td>\n      <td>1</td>\n      <td>0</td>\n      <td>Aston Villa</td>\n      <td>...</td>\n      <td>5</td>\n      <td>1</td>\n      <td>1.200000</td>\n      <td>1.600000</td>\n      <td>10.800000</td>\n      <td>4.000000</td>\n      <td>19.800000</td>\n      <td>0.400000</td>\n      <td>0.20000</td>\n      <td>0.200000</td>\n    </tr>\n    <tr>\n      <th>41</th>\n      <td>2023-05-13</td>\n      <td>15:00</td>\n      <td>Premier League</td>\n      <td>Matchweek 36</td>\n      <td>Sat</td>\n      <td>Away</td>\n      <td>L</td>\n      <td>0</td>\n      <td>2</td>\n      <td>Manchester Utd</td>\n      <td>...</td>\n      <td>5</td>\n      <td>0</td>\n      <td>1.200000</td>\n      <td>1.600000</td>\n      <td>10.200000</td>\n      <td>3.600000</td>\n      <td>18.480000</td>\n      <td>0.400000</td>\n      <td>0.20000</td>\n      <td>0.200000</td>\n    </tr>\n    <tr>\n      <th>42</th>\n      <td>2023-05-20</td>\n      <td>15:00</td>\n      <td>Premier League</td>\n      <td>Matchweek 37</td>\n      <td>Sat</td>\n      <td>Home</td>\n      <td>D</td>\n      <td>1</td>\n      <td>1</td>\n      <td>Everton</td>\n      <td>...</td>\n      <td>5</td>\n      <td>0</td>\n      <td>0.800000</td>\n      <td>2.000000</td>\n      <td>9.000000</td>\n      <td>1.800000</td>\n      <td>16.900000</td>\n      <td>0.400000</td>\n      <td>0.20000</td>\n      <td>0.200000</td>\n    </tr>\n    <tr>\n      <th>43</th>\n      <td>2023-05-28</td>\n      <td>16:30</td>\n      <td>Premier League</td>\n      <td>Matchweek 38</td>\n      <td>Sun</td>\n      <td>Away</td>\n      <td>L</td>\n      <td>0</td>\n      <td>5</td>\n      <td>Arsenal</td>\n      <td>...</td>\n      <td>6</td>\n      <td>0</td>\n      <td>0.800000</td>\n      <td>1.800000</td>\n      <td>8.400000</td>\n      <td>2.200000</td>\n      <td>16.340000</td>\n      <td>0.200000</td>\n      <td>0.20000</td>\n      <td>0.200000</td>\n    </tr>\n  </tbody>\n</table>\n<p>2280 rows × 41 columns</p>\n</div>"
     },
     "execution_count": 77,
     "metadata": {},
     "output_type": "execute_result"
    }
   ],
   "source": [
    "matches_rolling"
   ],
   "metadata": {
    "pycharm": {
     "name": "#%%\n"
    },
    "colab": {
     "base_uri": "https://localhost:8080/",
     "height": 661
    },
    "id": "Kn05jMapDotl",
    "outputId": "ea506f2d-8efb-4640-80c4-5f42326583c8",
    "executionInfo": {
     "status": "ok",
     "timestamp": 1687270727441,
     "user_tz": -210,
     "elapsed": 20,
     "user": {
      "displayName": "soheil taheri",
      "userId": "00776671109671036609"
     }
    }
   }
  },
  {
   "cell_type": "code",
   "execution_count": 78,
   "outputs": [],
   "source": [
    "matches_rolling.index = range(matches_rolling.shape[0])"
   ],
   "metadata": {
    "pycharm": {
     "name": "#%%\n"
    },
    "id": "ob9iI4bfDotl",
    "executionInfo": {
     "status": "ok",
     "timestamp": 1687270727442,
     "user_tz": -210,
     "elapsed": 20,
     "user": {
      "displayName": "soheil taheri",
      "userId": "00776671109671036609"
     }
    }
   }
  },
  {
   "cell_type": "code",
   "execution_count": 79,
   "outputs": [
    {
     "data": {
      "text/plain": "Series([], Name: Team, dtype: object)"
     },
     "execution_count": 79,
     "metadata": {},
     "output_type": "execute_result"
    }
   ],
   "source": [
    "matches_rolling[matches_rolling[\"GA_rolling\"].isna()][\"Team\"]"
   ],
   "metadata": {
    "pycharm": {
     "name": "#%%\n"
    },
    "colab": {
     "base_uri": "https://localhost:8080/"
    },
    "id": "RA2A6FXaDotl",
    "outputId": "0e2ca917-b956-403f-9fa5-822446309e9b",
    "executionInfo": {
     "status": "ok",
     "timestamp": 1687270727442,
     "user_tz": -210,
     "elapsed": 20,
     "user": {
      "displayName": "soheil taheri",
      "userId": "00776671109671036609"
     }
    }
   }
  },
  {
   "cell_type": "code",
   "source": [
    "pd.concat([matches[\"Team\"], matches[\"Opponent\"]]).value_counts()"
   ],
   "metadata": {
    "colab": {
     "base_uri": "https://localhost:8080/"
    },
    "id": "xMezjlQfYM8v",
    "outputId": "49ea121a-6ad7-49ab-bd5e-18e33af06b13",
    "executionInfo": {
     "status": "ok",
     "timestamp": 1687270727443,
     "user_tz": -210,
     "elapsed": 19,
     "user": {
      "displayName": "soheil taheri",
      "userId": "00776671109671036609"
     }
    },
    "pycharm": {
     "name": "#%%\n"
    }
   },
   "execution_count": 80,
   "outputs": [
    {
     "data": {
      "text/plain": "Liverpool          228\nTottenham          228\nAston Villa        228\nManchester City    228\nManchester Utd     228\nBrighton           228\nWolves             228\nWest Ham           228\nEverton            228\nChelsea            228\nLeicester City     228\nSouthampton        228\nCrystal Palace     228\nNewcastle Utd      228\nLeeds United       228\nArsenal            228\nFulham             152\nBurnley            152\nBrentford          152\nWest Brom           76\nSheffield Utd       76\nWatford             76\nNorwich City        76\nBournemouth         76\nNott'ham Forest     76\nName: count, dtype: int64"
     },
     "execution_count": 80,
     "metadata": {},
     "output_type": "execute_result"
    }
   ]
  },
  {
   "cell_type": "code",
   "execution_count": 81,
   "outputs": [
    {
     "data": {
      "text/plain": "Opponent\nLeeds United       114\nTottenham          114\nAston Villa        114\nManchester City    114\nManchester Utd     114\nWolves             114\nChelsea            114\nNewcastle Utd      114\nLeicester City     114\nBrighton           114\nEverton            114\nArsenal            114\nCrystal Palace     114\nSouthampton        114\nWest Ham           114\nLiverpool          114\nBurnley             76\nFulham              76\nBrentford           76\nWest Brom           38\nSheffield Utd       38\nNorwich City        38\nWatford             38\nNott'ham Forest     38\nBournemouth         38\nName: count, dtype: int64"
     },
     "execution_count": 81,
     "metadata": {},
     "output_type": "execute_result"
    }
   ],
   "source": [
    "matches['Opponent'].value_counts()"
   ],
   "metadata": {
    "collapsed": false,
    "pycharm": {
     "name": "#%%\n"
    }
   }
  },
  {
   "cell_type": "code",
   "execution_count": 86,
   "outputs": [],
   "source": [
    "ff = matches_rolling[(matches_rolling['Referee'] == 'Chris Kavanagh') & (matches_rolling['Date'] == '2020-09-12')]"
   ],
   "metadata": {
    "collapsed": false,
    "pycharm": {
     "name": "#%%\n"
    }
   }
  },
  {
   "cell_type": "code",
   "execution_count": 87,
   "outputs": [
    {
     "data": {
      "text/plain": "          Date   Time        Round     Team Opponent\n0   2020-09-12  12:30  Matchweek 1  Arsenal   Fulham\n874 2020-09-12  12:30  Matchweek 1   Fulham  Arsenal",
      "text/html": "<div>\n<style scoped>\n    .dataframe tbody tr th:only-of-type {\n        vertical-align: middle;\n    }\n\n    .dataframe tbody tr th {\n        vertical-align: top;\n    }\n\n    .dataframe thead th {\n        text-align: right;\n    }\n</style>\n<table border=\"1\" class=\"dataframe\">\n  <thead>\n    <tr style=\"text-align: right;\">\n      <th></th>\n      <th>Date</th>\n      <th>Time</th>\n      <th>Round</th>\n      <th>Team</th>\n      <th>Opponent</th>\n    </tr>\n  </thead>\n  <tbody>\n    <tr>\n      <th>0</th>\n      <td>2020-09-12</td>\n      <td>12:30</td>\n      <td>Matchweek 1</td>\n      <td>Arsenal</td>\n      <td>Fulham</td>\n    </tr>\n    <tr>\n      <th>874</th>\n      <td>2020-09-12</td>\n      <td>12:30</td>\n      <td>Matchweek 1</td>\n      <td>Fulham</td>\n      <td>Arsenal</td>\n    </tr>\n  </tbody>\n</table>\n</div>"
     },
     "execution_count": 87,
     "metadata": {},
     "output_type": "execute_result"
    }
   ],
   "source": [
    "ff[['Date', 'Time', 'Round', 'Team', 'Opponent']]"
   ],
   "metadata": {
    "collapsed": false,
    "pycharm": {
     "name": "#%%\n"
    }
   }
  },
  {
   "cell_type": "code",
   "source": [
    "matches_rolling['match_id'] = matches_rolling[['Team', 'Opponent', 'Date']].apply(lambda x: ''.join(sorted([str(i) for i in x])), axis=1)\n",
    "matches_rolling = matches_rolling.drop_duplicates(['match_id'])\n",
    "matches_rolling"
   ],
   "metadata": {
    "colab": {
     "base_uri": "https://localhost:8080/",
     "height": 661
    },
    "id": "jlToMu9denn-",
    "outputId": "7badae31-3856-4a26-89d8-8ebbdabb8592",
    "executionInfo": {
     "status": "ok",
     "timestamp": 1687270727443,
     "user_tz": -210,
     "elapsed": 17,
     "user": {
      "displayName": "soheil taheri",
      "userId": "00776671109671036609"
     }
    },
    "pycharm": {
     "name": "#%%\n"
    }
   },
   "execution_count": 33,
   "outputs": [
    {
     "data": {
      "text/plain": "           Date   Time            Comp         Round  Day Venue Result  GF   \n0    2020-09-12  12:30  Premier League   Matchweek 1  Sat  Away      W   3  \\\n1    2020-09-19  20:00  Premier League   Matchweek 2  Sat  Home      W   2   \n2    2020-09-28  20:00  Premier League   Matchweek 3  Mon  Away      L   1   \n3    2020-10-04  14:00  Premier League   Matchweek 4  Sun  Home      W   2   \n4    2020-10-17  17:30  Premier League   Matchweek 5  Sat  Away      L   0   \n...         ...    ...             ...           ...  ...   ...    ...  ..   \n2081 2021-04-05  20:15  Premier League  Matchweek 30  Mon  Away      W   3   \n2101 2021-11-20  15:00  Premier League  Matchweek 12  Sat  Away      L   0   \n2116 2022-02-27  14:00  Premier League  Matchweek 27  Sun  Home      W   1   \n2135 2022-10-01  17:30  Premier League   Matchweek 9  Sat  Home      W   2   \n2146 2023-01-14  15:00  Premier League  Matchweek 20  Sat  Away      L   0   \n\n      GA         Opponent  ...  target  GF_rolling  GA_rolling  Sh_rolling   \n0      0           Fulham  ...       1    1.772477    1.148624   14.377982  \\\n1      1         West Ham  ...       1    1.772477    1.148624   14.377982   \n2      3        Liverpool  ...       0    1.772477    1.148624   14.377982   \n3      1    Sheffield Utd  ...       1    1.772477    1.148624   14.377982   \n4      1  Manchester City  ...       0    1.772477    1.148624   14.377982   \n...   ..              ...  ...     ...         ...         ...         ...   \n2081   2           Wolves  ...       1    1.600000    1.400000   10.000000   \n2101   1           Wolves  ...       0    2.000000    1.000000   15.000000   \n2116   0           Wolves  ...       1    1.200000    1.400000    9.800000   \n2135   0           Wolves  ...       1    0.600000    1.200000   10.800000   \n2146   1           Wolves  ...       0    0.800000    2.200000   12.800000   \n\n     SoT_rolling Dist_rolling FK_rolling PK_rolling  PKatt_rolling   \n0       4.552294    17.351193   0.526606    0.12844       0.165138  \\\n1       4.552294    17.351193   0.526606    0.12844       0.165138   \n2       4.552294    17.351193   0.526606    0.12844       0.165138   \n3       4.552294    17.351193   0.526606    0.12844       0.165138   \n4       4.552294    17.351193   0.526606    0.12844       0.165138   \n...          ...          ...        ...        ...            ...   \n2081    3.200000    13.740000   0.200000    0.00000       0.200000   \n2101    4.800000    15.800000   0.800000    0.00000       0.000000   \n2116    2.800000    14.840000   0.000000    0.00000       0.000000   \n2135    3.200000    17.740000   0.200000    0.00000       0.000000   \n2146    3.400000    19.600000   0.400000    0.40000       0.400000   \n\n                                       match_id  \n0              2020-09-12 00:00:00ArsenalFulham  \n1            2020-09-19 00:00:00ArsenalWest Ham  \n2           2020-09-28 00:00:00ArsenalLiverpool  \n3       2020-10-04 00:00:00ArsenalSheffield Utd  \n4     2020-10-17 00:00:00ArsenalManchester City  \n...                                         ...  \n2081          2021-04-05 00:00:00West HamWolves  \n2101          2021-11-20 00:00:00West HamWolves  \n2116          2022-02-27 00:00:00West HamWolves  \n2135          2022-10-01 00:00:00West HamWolves  \n2146          2023-01-14 00:00:00West HamWolves  \n\n[1140 rows x 42 columns]",
      "text/html": "<div>\n<style scoped>\n    .dataframe tbody tr th:only-of-type {\n        vertical-align: middle;\n    }\n\n    .dataframe tbody tr th {\n        vertical-align: top;\n    }\n\n    .dataframe thead th {\n        text-align: right;\n    }\n</style>\n<table border=\"1\" class=\"dataframe\">\n  <thead>\n    <tr style=\"text-align: right;\">\n      <th></th>\n      <th>Date</th>\n      <th>Time</th>\n      <th>Comp</th>\n      <th>Round</th>\n      <th>Day</th>\n      <th>Venue</th>\n      <th>Result</th>\n      <th>GF</th>\n      <th>GA</th>\n      <th>Opponent</th>\n      <th>...</th>\n      <th>target</th>\n      <th>GF_rolling</th>\n      <th>GA_rolling</th>\n      <th>Sh_rolling</th>\n      <th>SoT_rolling</th>\n      <th>Dist_rolling</th>\n      <th>FK_rolling</th>\n      <th>PK_rolling</th>\n      <th>PKatt_rolling</th>\n      <th>match_id</th>\n    </tr>\n  </thead>\n  <tbody>\n    <tr>\n      <th>0</th>\n      <td>2020-09-12</td>\n      <td>12:30</td>\n      <td>Premier League</td>\n      <td>Matchweek 1</td>\n      <td>Sat</td>\n      <td>Away</td>\n      <td>W</td>\n      <td>3</td>\n      <td>0</td>\n      <td>Fulham</td>\n      <td>...</td>\n      <td>1</td>\n      <td>1.772477</td>\n      <td>1.148624</td>\n      <td>14.377982</td>\n      <td>4.552294</td>\n      <td>17.351193</td>\n      <td>0.526606</td>\n      <td>0.12844</td>\n      <td>0.165138</td>\n      <td>2020-09-12 00:00:00ArsenalFulham</td>\n    </tr>\n    <tr>\n      <th>1</th>\n      <td>2020-09-19</td>\n      <td>20:00</td>\n      <td>Premier League</td>\n      <td>Matchweek 2</td>\n      <td>Sat</td>\n      <td>Home</td>\n      <td>W</td>\n      <td>2</td>\n      <td>1</td>\n      <td>West Ham</td>\n      <td>...</td>\n      <td>1</td>\n      <td>1.772477</td>\n      <td>1.148624</td>\n      <td>14.377982</td>\n      <td>4.552294</td>\n      <td>17.351193</td>\n      <td>0.526606</td>\n      <td>0.12844</td>\n      <td>0.165138</td>\n      <td>2020-09-19 00:00:00ArsenalWest Ham</td>\n    </tr>\n    <tr>\n      <th>2</th>\n      <td>2020-09-28</td>\n      <td>20:00</td>\n      <td>Premier League</td>\n      <td>Matchweek 3</td>\n      <td>Mon</td>\n      <td>Away</td>\n      <td>L</td>\n      <td>1</td>\n      <td>3</td>\n      <td>Liverpool</td>\n      <td>...</td>\n      <td>0</td>\n      <td>1.772477</td>\n      <td>1.148624</td>\n      <td>14.377982</td>\n      <td>4.552294</td>\n      <td>17.351193</td>\n      <td>0.526606</td>\n      <td>0.12844</td>\n      <td>0.165138</td>\n      <td>2020-09-28 00:00:00ArsenalLiverpool</td>\n    </tr>\n    <tr>\n      <th>3</th>\n      <td>2020-10-04</td>\n      <td>14:00</td>\n      <td>Premier League</td>\n      <td>Matchweek 4</td>\n      <td>Sun</td>\n      <td>Home</td>\n      <td>W</td>\n      <td>2</td>\n      <td>1</td>\n      <td>Sheffield Utd</td>\n      <td>...</td>\n      <td>1</td>\n      <td>1.772477</td>\n      <td>1.148624</td>\n      <td>14.377982</td>\n      <td>4.552294</td>\n      <td>17.351193</td>\n      <td>0.526606</td>\n      <td>0.12844</td>\n      <td>0.165138</td>\n      <td>2020-10-04 00:00:00ArsenalSheffield Utd</td>\n    </tr>\n    <tr>\n      <th>4</th>\n      <td>2020-10-17</td>\n      <td>17:30</td>\n      <td>Premier League</td>\n      <td>Matchweek 5</td>\n      <td>Sat</td>\n      <td>Away</td>\n      <td>L</td>\n      <td>0</td>\n      <td>1</td>\n      <td>Manchester City</td>\n      <td>...</td>\n      <td>0</td>\n      <td>1.772477</td>\n      <td>1.148624</td>\n      <td>14.377982</td>\n      <td>4.552294</td>\n      <td>17.351193</td>\n      <td>0.526606</td>\n      <td>0.12844</td>\n      <td>0.165138</td>\n      <td>2020-10-17 00:00:00ArsenalManchester City</td>\n    </tr>\n    <tr>\n      <th>...</th>\n      <td>...</td>\n      <td>...</td>\n      <td>...</td>\n      <td>...</td>\n      <td>...</td>\n      <td>...</td>\n      <td>...</td>\n      <td>...</td>\n      <td>...</td>\n      <td>...</td>\n      <td>...</td>\n      <td>...</td>\n      <td>...</td>\n      <td>...</td>\n      <td>...</td>\n      <td>...</td>\n      <td>...</td>\n      <td>...</td>\n      <td>...</td>\n      <td>...</td>\n      <td>...</td>\n    </tr>\n    <tr>\n      <th>2081</th>\n      <td>2021-04-05</td>\n      <td>20:15</td>\n      <td>Premier League</td>\n      <td>Matchweek 30</td>\n      <td>Mon</td>\n      <td>Away</td>\n      <td>W</td>\n      <td>3</td>\n      <td>2</td>\n      <td>Wolves</td>\n      <td>...</td>\n      <td>1</td>\n      <td>1.600000</td>\n      <td>1.400000</td>\n      <td>10.000000</td>\n      <td>3.200000</td>\n      <td>13.740000</td>\n      <td>0.200000</td>\n      <td>0.00000</td>\n      <td>0.200000</td>\n      <td>2021-04-05 00:00:00West HamWolves</td>\n    </tr>\n    <tr>\n      <th>2101</th>\n      <td>2021-11-20</td>\n      <td>15:00</td>\n      <td>Premier League</td>\n      <td>Matchweek 12</td>\n      <td>Sat</td>\n      <td>Away</td>\n      <td>L</td>\n      <td>0</td>\n      <td>1</td>\n      <td>Wolves</td>\n      <td>...</td>\n      <td>0</td>\n      <td>2.000000</td>\n      <td>1.000000</td>\n      <td>15.000000</td>\n      <td>4.800000</td>\n      <td>15.800000</td>\n      <td>0.800000</td>\n      <td>0.00000</td>\n      <td>0.000000</td>\n      <td>2021-11-20 00:00:00West HamWolves</td>\n    </tr>\n    <tr>\n      <th>2116</th>\n      <td>2022-02-27</td>\n      <td>14:00</td>\n      <td>Premier League</td>\n      <td>Matchweek 27</td>\n      <td>Sun</td>\n      <td>Home</td>\n      <td>W</td>\n      <td>1</td>\n      <td>0</td>\n      <td>Wolves</td>\n      <td>...</td>\n      <td>1</td>\n      <td>1.200000</td>\n      <td>1.400000</td>\n      <td>9.800000</td>\n      <td>2.800000</td>\n      <td>14.840000</td>\n      <td>0.000000</td>\n      <td>0.00000</td>\n      <td>0.000000</td>\n      <td>2022-02-27 00:00:00West HamWolves</td>\n    </tr>\n    <tr>\n      <th>2135</th>\n      <td>2022-10-01</td>\n      <td>17:30</td>\n      <td>Premier League</td>\n      <td>Matchweek 9</td>\n      <td>Sat</td>\n      <td>Home</td>\n      <td>W</td>\n      <td>2</td>\n      <td>0</td>\n      <td>Wolves</td>\n      <td>...</td>\n      <td>1</td>\n      <td>0.600000</td>\n      <td>1.200000</td>\n      <td>10.800000</td>\n      <td>3.200000</td>\n      <td>17.740000</td>\n      <td>0.200000</td>\n      <td>0.00000</td>\n      <td>0.000000</td>\n      <td>2022-10-01 00:00:00West HamWolves</td>\n    </tr>\n    <tr>\n      <th>2146</th>\n      <td>2023-01-14</td>\n      <td>15:00</td>\n      <td>Premier League</td>\n      <td>Matchweek 20</td>\n      <td>Sat</td>\n      <td>Away</td>\n      <td>L</td>\n      <td>0</td>\n      <td>1</td>\n      <td>Wolves</td>\n      <td>...</td>\n      <td>0</td>\n      <td>0.800000</td>\n      <td>2.200000</td>\n      <td>12.800000</td>\n      <td>3.400000</td>\n      <td>19.600000</td>\n      <td>0.400000</td>\n      <td>0.40000</td>\n      <td>0.400000</td>\n      <td>2023-01-14 00:00:00West HamWolves</td>\n    </tr>\n  </tbody>\n</table>\n<p>1140 rows × 42 columns</p>\n</div>"
     },
     "execution_count": 33,
     "metadata": {},
     "output_type": "execute_result"
    }
   ]
  },
  {
   "cell_type": "code",
   "source": [
    "pd.concat([matches_rolling[\"Team\"], matches_rolling[\"Opponent\"]]).value_counts()"
   ],
   "metadata": {
    "colab": {
     "base_uri": "https://localhost:8080/"
    },
    "id": "5IiF1k_9eyxX",
    "outputId": "ff264037-faeb-4ff4-c454-048e949000e3",
    "executionInfo": {
     "status": "ok",
     "timestamp": 1687270727443,
     "user_tz": -210,
     "elapsed": 15,
     "user": {
      "displayName": "soheil taheri",
      "userId": "00776671109671036609"
     }
    },
    "pycharm": {
     "name": "#%%\n"
    }
   },
   "execution_count": 34,
   "outputs": [
    {
     "data": {
      "text/plain": "Arsenal            114\nLeeds United       114\nWest Ham           114\nTottenham          114\nSouthampton        114\nNewcastle Utd      114\nManchester Utd     114\nManchester City    114\nAston Villa        114\nLeicester City     114\nLiverpool          114\nEverton            114\nCrystal Palace     114\nChelsea            114\nBrighton           114\nWolves             114\nFulham              76\nBurnley             76\nBrentford           76\nNorwich City        38\nNott'ham Forest     38\nSheffield Utd       38\nWatford             38\nWest Brom           38\nBournemouth         38\nName: count, dtype: int64"
     },
     "execution_count": 34,
     "metadata": {},
     "output_type": "execute_result"
    }
   ]
  },
  {
   "cell_type": "code",
   "source": [
    "df = matches_rolling.copy()"
   ],
   "metadata": {
    "id": "YwLFNQlvgM7z",
    "executionInfo": {
     "status": "ok",
     "timestamp": 1687270727444,
     "user_tz": -210,
     "elapsed": 14,
     "user": {
      "displayName": "soheil taheri",
      "userId": "00776671109671036609"
     }
    },
    "pycharm": {
     "name": "#%%\n"
    }
   },
   "execution_count": 35,
   "outputs": []
  },
  {
   "cell_type": "code",
   "execution_count": 36,
   "outputs": [],
   "source": [
    "# predictors = ['venue_code', 'team_code', 'opp_code', 'hour', 'day_code', 'Sh', 'SoT','Dist', 'FK', 'PK', 'PKatt']\n",
    "\n",
    "#  'Sh', 'SoT','Dist', 'FK', 'PK', 'PKatt', 'hour', 'day_code', 'xG', 'xGA',\n",
    "\n",
    "predictors = [  'team_code', 'venue_code', 'opp_code', 'hour', 'day_code', 'xG', 'xGA',\n",
    "                'GF_rolling',\n",
    "                'GA_rolling',\n",
    "                'Sh_rolling',\n",
    "                'SoT_rolling',\n",
    "                'Dist_rolling',\n",
    "                'FK_rolling',\n",
    "                'PK_rolling',\n",
    "                'PKatt_rolling']"
   ],
   "metadata": {
    "pycharm": {
     "name": "#%%\n"
    },
    "id": "4WHC6yDIDotj",
    "executionInfo": {
     "status": "ok",
     "timestamp": 1687270727444,
     "user_tz": -210,
     "elapsed": 14,
     "user": {
      "displayName": "soheil taheri",
      "userId": "00776671109671036609"
     }
    }
   }
  },
  {
   "cell_type": "code",
   "source": [
    "from sklearn.model_selection import train_test_split\n",
    "\n",
    "# x_train = df[df['Date'] <= '2022-05-23'][predictors]\n",
    "# y_train = df[df['Date'] <= '2022-05-23']['target']\n",
    "# x_test = df[df['Date'] >= '2022-05-23'][predictors]\n",
    "# y_test = df[df['Date'] >= '2022-05-23']['target']\n",
    "# x_valid = df[(df['Date'] > '2022-05-23') & (df['Date'] < '2023-01-06')][predictors]\n",
    "# y_valid = df[(df['Date'] > '2022-05-23') & (df['Date'] < '2023-01-06')]['target']\n",
    "\n",
    "# x_valid = df[(df['Date'] > '2023-01-06')][predictors]\n",
    "# y_valid = df[(df['Date'] > '2023-01-06')]['target']\n",
    "\n",
    "x_train, x_test, y_train, y_test = train_test_split(df[predictors], df[\"target\"], test_size=0.2)\n",
    "x_train, x_valid, y_train, y_valid = train_test_split(x_train, y_train, test_size=0.2)"
   ],
   "metadata": {
    "id": "IRrGRJyFfD8V",
    "executionInfo": {
     "status": "ok",
     "timestamp": 1687270727444,
     "user_tz": -210,
     "elapsed": 13,
     "user": {
      "displayName": "soheil taheri",
      "userId": "00776671109671036609"
     }
    },
    "pycharm": {
     "name": "#%%\n"
    }
   },
   "execution_count": 37,
   "outputs": []
  },
  {
   "cell_type": "code",
   "execution_count": 38,
   "outputs": [],
   "source": [
    "import numpy as np\n",
    "from sklearn.metrics import classification_report"
   ],
   "metadata": {
    "collapsed": false,
    "pycharm": {
     "name": "#%%\n"
    }
   }
  },
  {
   "cell_type": "markdown",
   "source": [
    "# Naive Bayes"
   ],
   "metadata": {
    "collapsed": false,
    "pycharm": {
     "name": "#%% md\n"
    }
   }
  },
  {
   "cell_type": "code",
   "execution_count": 39,
   "outputs": [
    {
     "name": "stdout",
     "output_type": "stream",
     "text": [
      "              precision    recall  f1-score   support\n",
      "\n",
      "           0       0.71      0.82      0.76       142\n",
      "           1       0.60      0.44      0.51        86\n",
      "\n",
      "    accuracy                           0.68       228\n",
      "   macro avg       0.66      0.63      0.64       228\n",
      "weighted avg       0.67      0.68      0.67       228\n",
      "\n"
     ]
    }
   ],
   "source": [
    "from sklearn.naive_bayes import MultinomialNB\n",
    "nb_model = MultinomialNB()\n",
    "nb_model.fit(x_train, y_train)\n",
    "preds = nb_model.predict(x_test)\n",
    "print(classification_report(y_test, preds))"
   ],
   "metadata": {
    "collapsed": false,
    "pycharm": {
     "name": "#%%\n"
    }
   }
  },
  {
   "cell_type": "code",
   "execution_count": 40,
   "outputs": [],
   "source": [
    "from keras.models import Sequential\n",
    "from keras.layers import Dense, Input, Embedding, Flatten\n",
    "from keras.utils import to_categorical\n",
    "from tensorflow import keras"
   ],
   "metadata": {
    "collapsed": false,
    "pycharm": {
     "name": "#%%\n"
    }
   }
  },
  {
   "cell_type": "code",
   "execution_count": 41,
   "outputs": [],
   "source": [
    "model = Sequential()\n",
    "model.add(Input(len(predictors)))\n",
    "model.add(Dense(64, activation='relu'))\n",
    "model.add(Dense(32, activation='relu'))\n",
    "model.add(Dense(16, activation='relu'))\n",
    "model.add(Dense(2, activation='softmax'))\n",
    "model.compile(optimizer=keras.optimizers.Adam(learning_rate = 0.01), loss='categorical_crossentropy', metrics=['accuracy'])"
   ],
   "metadata": {
    "collapsed": false,
    "pycharm": {
     "name": "#%%\n"
    }
   }
  },
  {
   "cell_type": "code",
   "execution_count": 42,
   "outputs": [
    {
     "name": "stdout",
     "output_type": "stream",
     "text": [
      "Epoch 1/30\n",
      "23/23 [==============================] - 3s 96ms/step - loss: 0.7646 - accuracy: 0.5665 - val_loss: 0.6532 - val_accuracy: 0.5738\n",
      "Epoch 2/30\n",
      "23/23 [==============================] - 0s 5ms/step - loss: 0.6511 - accuracy: 0.6214 - val_loss: 0.6516 - val_accuracy: 0.5902\n",
      "Epoch 3/30\n",
      "23/23 [==============================] - 0s 4ms/step - loss: 0.6141 - accuracy: 0.6653 - val_loss: 0.6189 - val_accuracy: 0.6557\n",
      "Epoch 4/30\n",
      "23/23 [==============================] - 0s 4ms/step - loss: 0.5840 - accuracy: 0.6859 - val_loss: 0.5729 - val_accuracy: 0.7104\n",
      "Epoch 5/30\n",
      "23/23 [==============================] - 0s 5ms/step - loss: 0.5703 - accuracy: 0.7147 - val_loss: 0.6022 - val_accuracy: 0.6721\n",
      "Epoch 6/30\n",
      "23/23 [==============================] - 0s 4ms/step - loss: 0.5860 - accuracy: 0.6818 - val_loss: 0.5742 - val_accuracy: 0.6995\n",
      "Epoch 7/30\n",
      "23/23 [==============================] - 0s 4ms/step - loss: 0.5600 - accuracy: 0.7174 - val_loss: 0.5611 - val_accuracy: 0.7158\n",
      "Epoch 8/30\n",
      "23/23 [==============================] - 0s 3ms/step - loss: 0.5610 - accuracy: 0.7037 - val_loss: 0.5701 - val_accuracy: 0.7104\n",
      "Epoch 9/30\n",
      "23/23 [==============================] - 0s 3ms/step - loss: 0.5530 - accuracy: 0.7257 - val_loss: 0.5607 - val_accuracy: 0.7049\n",
      "Epoch 10/30\n",
      "23/23 [==============================] - 0s 4ms/step - loss: 0.5287 - accuracy: 0.7270 - val_loss: 0.5726 - val_accuracy: 0.7104\n",
      "Epoch 11/30\n",
      "23/23 [==============================] - 0s 5ms/step - loss: 0.5609 - accuracy: 0.6941 - val_loss: 0.5626 - val_accuracy: 0.7104\n",
      "Epoch 12/30\n",
      "23/23 [==============================] - 0s 5ms/step - loss: 0.5477 - accuracy: 0.7188 - val_loss: 0.5976 - val_accuracy: 0.7104\n",
      "Epoch 13/30\n",
      "23/23 [==============================] - 0s 3ms/step - loss: 0.5385 - accuracy: 0.7270 - val_loss: 0.5654 - val_accuracy: 0.7213\n",
      "Epoch 14/30\n",
      "23/23 [==============================] - 0s 3ms/step - loss: 0.5616 - accuracy: 0.7037 - val_loss: 0.6401 - val_accuracy: 0.6339\n",
      "Epoch 15/30\n",
      "23/23 [==============================] - 0s 4ms/step - loss: 0.5618 - accuracy: 0.7064 - val_loss: 0.5602 - val_accuracy: 0.6995\n",
      "Epoch 16/30\n",
      "23/23 [==============================] - 0s 3ms/step - loss: 0.5232 - accuracy: 0.7407 - val_loss: 0.5667 - val_accuracy: 0.7158\n",
      "Epoch 17/30\n",
      "23/23 [==============================] - 0s 3ms/step - loss: 0.5171 - accuracy: 0.7353 - val_loss: 0.5655 - val_accuracy: 0.6885\n",
      "Epoch 18/30\n",
      "23/23 [==============================] - 0s 3ms/step - loss: 0.5217 - accuracy: 0.7421 - val_loss: 0.5693 - val_accuracy: 0.7049\n",
      "Epoch 19/30\n",
      "23/23 [==============================] - 0s 3ms/step - loss: 0.5211 - accuracy: 0.7366 - val_loss: 0.5534 - val_accuracy: 0.7158\n",
      "Epoch 20/30\n",
      "23/23 [==============================] - 0s 3ms/step - loss: 0.5058 - accuracy: 0.7531 - val_loss: 0.5705 - val_accuracy: 0.7104\n",
      "Epoch 21/30\n",
      "23/23 [==============================] - 0s 3ms/step - loss: 0.5168 - accuracy: 0.7462 - val_loss: 0.6041 - val_accuracy: 0.6995\n",
      "Epoch 22/30\n",
      "23/23 [==============================] - 0s 4ms/step - loss: 0.5131 - accuracy: 0.7407 - val_loss: 0.5722 - val_accuracy: 0.6995\n",
      "Epoch 23/30\n",
      "23/23 [==============================] - 0s 3ms/step - loss: 0.5196 - accuracy: 0.7298 - val_loss: 0.6475 - val_accuracy: 0.6612\n",
      "Epoch 24/30\n",
      "23/23 [==============================] - 0s 4ms/step - loss: 0.5239 - accuracy: 0.7353 - val_loss: 0.5764 - val_accuracy: 0.7213\n",
      "Epoch 25/30\n",
      "23/23 [==============================] - 0s 3ms/step - loss: 0.5084 - accuracy: 0.7503 - val_loss: 0.5632 - val_accuracy: 0.7049\n",
      "Epoch 26/30\n",
      "23/23 [==============================] - 0s 4ms/step - loss: 0.5082 - accuracy: 0.7380 - val_loss: 0.5601 - val_accuracy: 0.7158\n",
      "Epoch 27/30\n",
      "23/23 [==============================] - 0s 4ms/step - loss: 0.5015 - accuracy: 0.7558 - val_loss: 0.5824 - val_accuracy: 0.7158\n",
      "Epoch 28/30\n",
      "23/23 [==============================] - 0s 4ms/step - loss: 0.5058 - accuracy: 0.7353 - val_loss: 0.5543 - val_accuracy: 0.7158\n",
      "Epoch 29/30\n",
      "23/23 [==============================] - 0s 4ms/step - loss: 0.5096 - accuracy: 0.7449 - val_loss: 0.5459 - val_accuracy: 0.7268\n",
      "Epoch 30/30\n",
      "23/23 [==============================] - 0s 4ms/step - loss: 0.4982 - accuracy: 0.7476 - val_loss: 0.6251 - val_accuracy: 0.6995\n"
     ]
    },
    {
     "data": {
      "text/plain": "<keras.callbacks.History at 0x1e23a103ee0>"
     },
     "execution_count": 42,
     "metadata": {},
     "output_type": "execute_result"
    }
   ],
   "source": [
    "model.fit(x_train,\n",
    "          to_categorical(y_train, num_classes=2),\n",
    "          validation_data=(x_valid, to_categorical(y_valid, num_classes=2)),\n",
    "          epochs=30,\n",
    "          batch_size=32)"
   ],
   "metadata": {
    "collapsed": false,
    "pycharm": {
     "name": "#%%\n"
    }
   }
  },
  {
   "cell_type": "markdown",
   "source": [
    "# NeuralNetworks"
   ],
   "metadata": {
    "collapsed": false,
    "pycharm": {
     "name": "#%% md\n"
    }
   }
  },
  {
   "cell_type": "code",
   "execution_count": 43,
   "outputs": [
    {
     "name": "stdout",
     "output_type": "stream",
     "text": [
      "8/8 [==============================] - 0s 2ms/step\n",
      "              precision    recall  f1-score   support\n",
      "\n",
      "           0       0.79      0.70      0.75       142\n",
      "           1       0.59      0.70      0.64        86\n",
      "\n",
      "    accuracy                           0.70       228\n",
      "   macro avg       0.69      0.70      0.69       228\n",
      "weighted avg       0.72      0.70      0.71       228\n",
      "\n"
     ]
    }
   ],
   "source": [
    "pred = model.predict(x_test)\n",
    "pred = np.apply_along_axis(lambda x: np.argmax(x), axis=1, arr=pred)\n",
    "print(classification_report(y_test, pred))"
   ],
   "metadata": {
    "collapsed": false,
    "pycharm": {
     "name": "#%%\n"
    }
   }
  },
  {
   "cell_type": "markdown",
   "source": [
    "# Random Forest"
   ],
   "metadata": {
    "collapsed": false,
    "pycharm": {
     "name": "#%% md\n"
    }
   }
  },
  {
   "cell_type": "code",
   "execution_count": 44,
   "outputs": [
    {
     "name": "stdout",
     "output_type": "stream",
     "text": [
      "              precision    recall  f1-score   support\n",
      "\n",
      "           0       0.75      0.80      0.78       142\n",
      "           1       0.63      0.56      0.59        86\n",
      "\n",
      "    accuracy                           0.71       228\n",
      "   macro avg       0.69      0.68      0.68       228\n",
      "weighted avg       0.71      0.71      0.71       228\n",
      "\n"
     ]
    }
   ],
   "source": [
    "from sklearn.ensemble import RandomForestClassifier\n",
    "rf = RandomForestClassifier(n_estimators=1000, min_samples_split=10, random_state=1)\n",
    "rf.fit(x_train, y_train)\n",
    "preds = rf.predict(x_test)\n",
    "print(classification_report(y_test, preds))"
   ],
   "metadata": {
    "collapsed": false,
    "pycharm": {
     "name": "#%%\n"
    }
   }
  },
  {
   "cell_type": "markdown",
   "source": [
    "# XGBoost"
   ],
   "metadata": {
    "collapsed": false,
    "pycharm": {
     "name": "#%% md\n"
    }
   }
  },
  {
   "cell_type": "code",
   "execution_count": 45,
   "outputs": [
    {
     "name": "stdout",
     "output_type": "stream",
     "text": [
      "              precision    recall  f1-score   support\n",
      "\n",
      "           0       0.75      0.80      0.77       142\n",
      "           1       0.62      0.56      0.59        86\n",
      "\n",
      "    accuracy                           0.71       228\n",
      "   macro avg       0.69      0.68      0.68       228\n",
      "weighted avg       0.70      0.71      0.70       228\n",
      "\n"
     ]
    }
   ],
   "source": [
    "import xgboost as xgb\n",
    "xgb_model = xgb.XGBClassifier(objective ='binary:logistic',\n",
    "colsample_bytree = 0.3, learning_rate = 0.1,\n",
    "max_depth = 5, alpha = 10, n_estimators = 1000)\n",
    "xgb_model.fit(x_train, y_train)\n",
    "preds = xgb_model.predict(x_test)\n",
    "print(classification_report(y_test, preds))"
   ],
   "metadata": {
    "collapsed": false,
    "pycharm": {
     "name": "#%%\n"
    }
   }
  },
  {
   "cell_type": "markdown",
   "source": [
    "\n",
    "Logistic regression\n"
   ],
   "metadata": {
    "collapsed": false,
    "pycharm": {
     "name": "#%% md\n"
    }
   }
  },
  {
   "cell_type": "code",
   "execution_count": 46,
   "outputs": [
    {
     "name": "stdout",
     "output_type": "stream",
     "text": [
      "              precision    recall  f1-score   support\n",
      "\n",
      "           0       0.75      0.80      0.77       142\n",
      "           1       0.63      0.57      0.60        86\n",
      "\n",
      "    accuracy                           0.71       228\n",
      "   macro avg       0.69      0.68      0.69       228\n",
      "weighted avg       0.71      0.71      0.71       228\n",
      "\n"
     ]
    }
   ],
   "source": [
    "from sklearn.linear_model import LogisticRegression\n",
    "lr = LogisticRegression(penalty='l2', tol=0.0001, C=100.0, random_state=1,max_iter=1000, n_jobs=-1)\n",
    "lr.fit(x_train, y_train)\n",
    "preds = lr.predict(x_test)\n",
    "print(classification_report(y_test, preds))"
   ],
   "metadata": {
    "collapsed": false,
    "pycharm": {
     "name": "#%%\n"
    }
   }
  },
  {
   "cell_type": "markdown",
   "source": [
    "SVM"
   ],
   "metadata": {
    "collapsed": false,
    "pycharm": {
     "name": "#%% md\n"
    }
   }
  },
  {
   "cell_type": "code",
   "execution_count": 47,
   "outputs": [
    {
     "name": "stdout",
     "output_type": "stream",
     "text": [
      "1\n",
      "              precision    recall  f1-score   support\n",
      "\n",
      "           0       0.77      0.80      0.78       142\n",
      "           1       0.65      0.59      0.62        86\n",
      "\n",
      "    accuracy                           0.72       228\n",
      "   macro avg       0.71      0.70      0.70       228\n",
      "weighted avg       0.72      0.72      0.72       228\n",
      "\n"
     ]
    }
   ],
   "source": [
    "from sklearn.svm import SVC\n",
    "svm = SVC(kernel='linear', tol=0.0001, C=100.0)\n",
    "svm.fit(x_train, y_train)\n",
    "preds = svm.predict(x_test)\n",
    "print(np.ndim(preds))\n",
    "print(classification_report(y_test, preds))"
   ],
   "metadata": {
    "collapsed": false,
    "pycharm": {
     "name": "#%%\n"
    }
   }
  }
 ]
}